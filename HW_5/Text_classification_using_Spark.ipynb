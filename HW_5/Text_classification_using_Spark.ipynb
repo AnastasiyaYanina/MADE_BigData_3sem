{
  "cells": [
    {
      "cell_type": "code",
      "source": [
        "!pip install spark\n",
        "!pip install pyspark\n",
        "!pip install findspark"
      ],
      "metadata": {
        "colab": {
          "base_uri": "https://localhost:8080/"
        },
        "id": "D8WndPxPHGkw",
        "outputId": "c08f49d8-78cb-415b-cdf8-abaa9a6039cc"
      },
      "execution_count": null,
      "outputs": [
        {
          "output_type": "stream",
          "name": "stdout",
          "text": [
            "Looking in indexes: https://pypi.org/simple, https://us-python.pkg.dev/colab-wheels/public/simple/\n",
            "Collecting spark\n",
            "  Downloading spark-0.2.1.tar.gz (41 kB)\n",
            "\u001b[K     |████████████████████████████████| 41 kB 34 kB/s \n",
            "\u001b[?25hBuilding wheels for collected packages: spark\n",
            "  Building wheel for spark (setup.py) ... \u001b[?25l\u001b[?25hdone\n",
            "  Created wheel for spark: filename=spark-0.2.1-py3-none-any.whl size=58761 sha256=41d3f287b20803c5fd6f2e7d49ac1d64647b7e713c0c7c52c254b25f8dc20ad1\n",
            "  Stored in directory: /root/.cache/pip/wheels/c5/19/ff/9b16f354528bc9698ec3286be7947ebbf1f8391325553961d4\n",
            "Successfully built spark\n",
            "Installing collected packages: spark\n",
            "Successfully installed spark-0.2.1\n",
            "Looking in indexes: https://pypi.org/simple, https://us-python.pkg.dev/colab-wheels/public/simple/\n",
            "Collecting pyspark\n",
            "  Downloading pyspark-3.3.1.tar.gz (281.4 MB)\n",
            "\u001b[K     |████████████████████████████████| 281.4 MB 46 kB/s \n",
            "\u001b[?25hCollecting py4j==0.10.9.5\n",
            "  Downloading py4j-0.10.9.5-py2.py3-none-any.whl (199 kB)\n",
            "\u001b[K     |████████████████████████████████| 199 kB 46.4 MB/s \n",
            "\u001b[?25hBuilding wheels for collected packages: pyspark\n",
            "  Building wheel for pyspark (setup.py) ... \u001b[?25l\u001b[?25hdone\n",
            "  Created wheel for pyspark: filename=pyspark-3.3.1-py2.py3-none-any.whl size=281845512 sha256=f92796921510be69dd3a0454d74bf6b5eb44cc9f3523cc83c21c194e2898f086\n",
            "  Stored in directory: /root/.cache/pip/wheels/43/dc/11/ec201cd671da62fa9c5cc77078235e40722170ceba231d7598\n",
            "Successfully built pyspark\n",
            "Installing collected packages: py4j, pyspark\n",
            "Successfully installed py4j-0.10.9.5 pyspark-3.3.1\n",
            "Looking in indexes: https://pypi.org/simple, https://us-python.pkg.dev/colab-wheels/public/simple/\n",
            "Collecting findspark\n",
            "  Downloading findspark-2.0.1-py2.py3-none-any.whl (4.4 kB)\n",
            "Installing collected packages: findspark\n",
            "Successfully installed findspark-2.0.1\n"
          ]
        }
      ]
    },
    {
      "cell_type": "code",
      "source": [
        "import findspark\n",
        "findspark.init()\n",
        "import pyspark as ps\n",
        "import warnings\n",
        "from pyspark.sql import SQLContext"
      ],
      "metadata": {
        "id": "H4L_tXbzKzSy"
      },
      "execution_count": null,
      "outputs": []
    },
    {
      "cell_type": "code",
      "source": [
        "from pyspark.ml.feature import HashingTF, IDF, Tokenizer, CountVectorizer\n",
        "from pyspark.ml.feature import StringIndexer\n",
        "from pyspark.ml import Pipeline\n",
        "from pyspark.ml.classification import LogisticRegression\n",
        "from pyspark.ml.evaluation import BinaryClassificationEvaluator\n",
        "from pyspark.ml.feature import HashingTF, IDF, Tokenizer\n",
        "from pyspark.ml.feature import StringIndexer\n",
        "from pyspark.ml.classification import LogisticRegression\n",
        "from pyspark.ml.evaluation import BinaryClassificationEvaluator\n",
        "from pyspark.ml.feature import Word2Vec\n",
        "import pandas as pd"
      ],
      "metadata": {
        "id": "nYZnaJU4umiU"
      },
      "execution_count": null,
      "outputs": []
    },
    {
      "cell_type": "code",
      "source": [
        "from google.colab import drive \n",
        "drive.mount('/content/gdrive')"
      ],
      "metadata": {
        "colab": {
          "base_uri": "https://localhost:8080/"
        },
        "id": "uo46_ibnPYds",
        "outputId": "645bc637-d194-4cdb-ed99-cced94c63758"
      },
      "execution_count": null,
      "outputs": [
        {
          "output_type": "stream",
          "name": "stdout",
          "text": [
            "Mounted at /content/gdrive\n"
          ]
        }
      ]
    },
    {
      "cell_type": "markdown",
      "source": [
        "##Приведение данных к стандартному шаблону"
      ],
      "metadata": {
        "id": "mJeQKwMR2TGB"
      }
    },
    {
      "cell_type": "code",
      "source": [
        "#change file path\n",
        "pd_train = pd.read_csv('gdrive/My Drive/MADE/HPC_BD/train.csv')\n",
        "pd_train.head(15)"
      ],
      "metadata": {
        "colab": {
          "base_uri": "https://localhost:8080/",
          "height": 519
        },
        "id": "_wST2aJ4fxVv",
        "outputId": "16e59c6b-3571-4a62-c0b8-5221a7eb3e40"
      },
      "execution_count": null,
      "outputs": [
        {
          "output_type": "execute_result",
          "data": {
            "text/plain": [
              "                  id                                       comment_text  \\\n",
              "0   0000997932d777bf  Explanation\\nWhy the edits made under my usern...   \n",
              "1   000103f0d9cfb60f  D'aww! He matches this background colour I'm s...   \n",
              "2   000113f07ec002fd  Hey man, I'm really not trying to edit war. It...   \n",
              "3   0001b41b1c6bb37e  \"\\nMore\\nI can't make any real suggestions on ...   \n",
              "4   0001d958c54c6e35  You, sir, are my hero. Any chance you remember...   \n",
              "5   00025465d4725e87  \"\\n\\nCongratulations from me as well, use the ...   \n",
              "6   0002bcb3da6cb337       COCKSUCKER BEFORE YOU PISS AROUND ON MY WORK   \n",
              "7   00031b1e95af7921  Your vandalism to the Matt Shirvington article...   \n",
              "8   00037261f536c51d  Sorry if the word 'nonsense' was offensive to ...   \n",
              "9   00040093b2687caa  alignment on this subject and which are contra...   \n",
              "10  0005300084f90edc  \"\\nFair use rationale for Image:Wonju.jpg\\n\\nT...   \n",
              "11  00054a5e18b50dd4  bbq \\n\\nbe a man and lets discuss it-maybe ove...   \n",
              "12  0005c987bdfc9d4b  Hey... what is it..\\n@ | talk .\\nWhat is it......   \n",
              "13  0006f16e4e9f292e  Before you start throwing accusations and warn...   \n",
              "14  00070ef96486d6f9  Oh, and the girl above started her arguments w...   \n",
              "\n",
              "    toxic  severe_toxic  obscene  threat  insult  identity_hate  \n",
              "0       0             0        0       0       0              0  \n",
              "1       0             0        0       0       0              0  \n",
              "2       0             0        0       0       0              0  \n",
              "3       0             0        0       0       0              0  \n",
              "4       0             0        0       0       0              0  \n",
              "5       0             0        0       0       0              0  \n",
              "6       1             1        1       0       1              0  \n",
              "7       0             0        0       0       0              0  \n",
              "8       0             0        0       0       0              0  \n",
              "9       0             0        0       0       0              0  \n",
              "10      0             0        0       0       0              0  \n",
              "11      0             0        0       0       0              0  \n",
              "12      1             0        0       0       0              0  \n",
              "13      0             0        0       0       0              0  \n",
              "14      0             0        0       0       0              0  "
            ],
            "text/html": [
              "\n",
              "  <div id=\"df-ab9382d5-aff4-4a3a-82d8-2fa1ae4b7697\">\n",
              "    <div class=\"colab-df-container\">\n",
              "      <div>\n",
              "<style scoped>\n",
              "    .dataframe tbody tr th:only-of-type {\n",
              "        vertical-align: middle;\n",
              "    }\n",
              "\n",
              "    .dataframe tbody tr th {\n",
              "        vertical-align: top;\n",
              "    }\n",
              "\n",
              "    .dataframe thead th {\n",
              "        text-align: right;\n",
              "    }\n",
              "</style>\n",
              "<table border=\"1\" class=\"dataframe\">\n",
              "  <thead>\n",
              "    <tr style=\"text-align: right;\">\n",
              "      <th></th>\n",
              "      <th>id</th>\n",
              "      <th>comment_text</th>\n",
              "      <th>toxic</th>\n",
              "      <th>severe_toxic</th>\n",
              "      <th>obscene</th>\n",
              "      <th>threat</th>\n",
              "      <th>insult</th>\n",
              "      <th>identity_hate</th>\n",
              "    </tr>\n",
              "  </thead>\n",
              "  <tbody>\n",
              "    <tr>\n",
              "      <th>0</th>\n",
              "      <td>0000997932d777bf</td>\n",
              "      <td>Explanation\\nWhy the edits made under my usern...</td>\n",
              "      <td>0</td>\n",
              "      <td>0</td>\n",
              "      <td>0</td>\n",
              "      <td>0</td>\n",
              "      <td>0</td>\n",
              "      <td>0</td>\n",
              "    </tr>\n",
              "    <tr>\n",
              "      <th>1</th>\n",
              "      <td>000103f0d9cfb60f</td>\n",
              "      <td>D'aww! He matches this background colour I'm s...</td>\n",
              "      <td>0</td>\n",
              "      <td>0</td>\n",
              "      <td>0</td>\n",
              "      <td>0</td>\n",
              "      <td>0</td>\n",
              "      <td>0</td>\n",
              "    </tr>\n",
              "    <tr>\n",
              "      <th>2</th>\n",
              "      <td>000113f07ec002fd</td>\n",
              "      <td>Hey man, I'm really not trying to edit war. It...</td>\n",
              "      <td>0</td>\n",
              "      <td>0</td>\n",
              "      <td>0</td>\n",
              "      <td>0</td>\n",
              "      <td>0</td>\n",
              "      <td>0</td>\n",
              "    </tr>\n",
              "    <tr>\n",
              "      <th>3</th>\n",
              "      <td>0001b41b1c6bb37e</td>\n",
              "      <td>\"\\nMore\\nI can't make any real suggestions on ...</td>\n",
              "      <td>0</td>\n",
              "      <td>0</td>\n",
              "      <td>0</td>\n",
              "      <td>0</td>\n",
              "      <td>0</td>\n",
              "      <td>0</td>\n",
              "    </tr>\n",
              "    <tr>\n",
              "      <th>4</th>\n",
              "      <td>0001d958c54c6e35</td>\n",
              "      <td>You, sir, are my hero. Any chance you remember...</td>\n",
              "      <td>0</td>\n",
              "      <td>0</td>\n",
              "      <td>0</td>\n",
              "      <td>0</td>\n",
              "      <td>0</td>\n",
              "      <td>0</td>\n",
              "    </tr>\n",
              "    <tr>\n",
              "      <th>5</th>\n",
              "      <td>00025465d4725e87</td>\n",
              "      <td>\"\\n\\nCongratulations from me as well, use the ...</td>\n",
              "      <td>0</td>\n",
              "      <td>0</td>\n",
              "      <td>0</td>\n",
              "      <td>0</td>\n",
              "      <td>0</td>\n",
              "      <td>0</td>\n",
              "    </tr>\n",
              "    <tr>\n",
              "      <th>6</th>\n",
              "      <td>0002bcb3da6cb337</td>\n",
              "      <td>COCKSUCKER BEFORE YOU PISS AROUND ON MY WORK</td>\n",
              "      <td>1</td>\n",
              "      <td>1</td>\n",
              "      <td>1</td>\n",
              "      <td>0</td>\n",
              "      <td>1</td>\n",
              "      <td>0</td>\n",
              "    </tr>\n",
              "    <tr>\n",
              "      <th>7</th>\n",
              "      <td>00031b1e95af7921</td>\n",
              "      <td>Your vandalism to the Matt Shirvington article...</td>\n",
              "      <td>0</td>\n",
              "      <td>0</td>\n",
              "      <td>0</td>\n",
              "      <td>0</td>\n",
              "      <td>0</td>\n",
              "      <td>0</td>\n",
              "    </tr>\n",
              "    <tr>\n",
              "      <th>8</th>\n",
              "      <td>00037261f536c51d</td>\n",
              "      <td>Sorry if the word 'nonsense' was offensive to ...</td>\n",
              "      <td>0</td>\n",
              "      <td>0</td>\n",
              "      <td>0</td>\n",
              "      <td>0</td>\n",
              "      <td>0</td>\n",
              "      <td>0</td>\n",
              "    </tr>\n",
              "    <tr>\n",
              "      <th>9</th>\n",
              "      <td>00040093b2687caa</td>\n",
              "      <td>alignment on this subject and which are contra...</td>\n",
              "      <td>0</td>\n",
              "      <td>0</td>\n",
              "      <td>0</td>\n",
              "      <td>0</td>\n",
              "      <td>0</td>\n",
              "      <td>0</td>\n",
              "    </tr>\n",
              "    <tr>\n",
              "      <th>10</th>\n",
              "      <td>0005300084f90edc</td>\n",
              "      <td>\"\\nFair use rationale for Image:Wonju.jpg\\n\\nT...</td>\n",
              "      <td>0</td>\n",
              "      <td>0</td>\n",
              "      <td>0</td>\n",
              "      <td>0</td>\n",
              "      <td>0</td>\n",
              "      <td>0</td>\n",
              "    </tr>\n",
              "    <tr>\n",
              "      <th>11</th>\n",
              "      <td>00054a5e18b50dd4</td>\n",
              "      <td>bbq \\n\\nbe a man and lets discuss it-maybe ove...</td>\n",
              "      <td>0</td>\n",
              "      <td>0</td>\n",
              "      <td>0</td>\n",
              "      <td>0</td>\n",
              "      <td>0</td>\n",
              "      <td>0</td>\n",
              "    </tr>\n",
              "    <tr>\n",
              "      <th>12</th>\n",
              "      <td>0005c987bdfc9d4b</td>\n",
              "      <td>Hey... what is it..\\n@ | talk .\\nWhat is it......</td>\n",
              "      <td>1</td>\n",
              "      <td>0</td>\n",
              "      <td>0</td>\n",
              "      <td>0</td>\n",
              "      <td>0</td>\n",
              "      <td>0</td>\n",
              "    </tr>\n",
              "    <tr>\n",
              "      <th>13</th>\n",
              "      <td>0006f16e4e9f292e</td>\n",
              "      <td>Before you start throwing accusations and warn...</td>\n",
              "      <td>0</td>\n",
              "      <td>0</td>\n",
              "      <td>0</td>\n",
              "      <td>0</td>\n",
              "      <td>0</td>\n",
              "      <td>0</td>\n",
              "    </tr>\n",
              "    <tr>\n",
              "      <th>14</th>\n",
              "      <td>00070ef96486d6f9</td>\n",
              "      <td>Oh, and the girl above started her arguments w...</td>\n",
              "      <td>0</td>\n",
              "      <td>0</td>\n",
              "      <td>0</td>\n",
              "      <td>0</td>\n",
              "      <td>0</td>\n",
              "      <td>0</td>\n",
              "    </tr>\n",
              "  </tbody>\n",
              "</table>\n",
              "</div>\n",
              "      <button class=\"colab-df-convert\" onclick=\"convertToInteractive('df-ab9382d5-aff4-4a3a-82d8-2fa1ae4b7697')\"\n",
              "              title=\"Convert this dataframe to an interactive table.\"\n",
              "              style=\"display:none;\">\n",
              "        \n",
              "  <svg xmlns=\"http://www.w3.org/2000/svg\" height=\"24px\"viewBox=\"0 0 24 24\"\n",
              "       width=\"24px\">\n",
              "    <path d=\"M0 0h24v24H0V0z\" fill=\"none\"/>\n",
              "    <path d=\"M18.56 5.44l.94 2.06.94-2.06 2.06-.94-2.06-.94-.94-2.06-.94 2.06-2.06.94zm-11 1L8.5 8.5l.94-2.06 2.06-.94-2.06-.94L8.5 2.5l-.94 2.06-2.06.94zm10 10l.94 2.06.94-2.06 2.06-.94-2.06-.94-.94-2.06-.94 2.06-2.06.94z\"/><path d=\"M17.41 7.96l-1.37-1.37c-.4-.4-.92-.59-1.43-.59-.52 0-1.04.2-1.43.59L10.3 9.45l-7.72 7.72c-.78.78-.78 2.05 0 2.83L4 21.41c.39.39.9.59 1.41.59.51 0 1.02-.2 1.41-.59l7.78-7.78 2.81-2.81c.8-.78.8-2.07 0-2.86zM5.41 20L4 18.59l7.72-7.72 1.47 1.35L5.41 20z\"/>\n",
              "  </svg>\n",
              "      </button>\n",
              "      \n",
              "  <style>\n",
              "    .colab-df-container {\n",
              "      display:flex;\n",
              "      flex-wrap:wrap;\n",
              "      gap: 12px;\n",
              "    }\n",
              "\n",
              "    .colab-df-convert {\n",
              "      background-color: #E8F0FE;\n",
              "      border: none;\n",
              "      border-radius: 50%;\n",
              "      cursor: pointer;\n",
              "      display: none;\n",
              "      fill: #1967D2;\n",
              "      height: 32px;\n",
              "      padding: 0 0 0 0;\n",
              "      width: 32px;\n",
              "    }\n",
              "\n",
              "    .colab-df-convert:hover {\n",
              "      background-color: #E2EBFA;\n",
              "      box-shadow: 0px 1px 2px rgba(60, 64, 67, 0.3), 0px 1px 3px 1px rgba(60, 64, 67, 0.15);\n",
              "      fill: #174EA6;\n",
              "    }\n",
              "\n",
              "    [theme=dark] .colab-df-convert {\n",
              "      background-color: #3B4455;\n",
              "      fill: #D2E3FC;\n",
              "    }\n",
              "\n",
              "    [theme=dark] .colab-df-convert:hover {\n",
              "      background-color: #434B5C;\n",
              "      box-shadow: 0px 1px 3px 1px rgba(0, 0, 0, 0.15);\n",
              "      filter: drop-shadow(0px 1px 2px rgba(0, 0, 0, 0.3));\n",
              "      fill: #FFFFFF;\n",
              "    }\n",
              "  </style>\n",
              "\n",
              "      <script>\n",
              "        const buttonEl =\n",
              "          document.querySelector('#df-ab9382d5-aff4-4a3a-82d8-2fa1ae4b7697 button.colab-df-convert');\n",
              "        buttonEl.style.display =\n",
              "          google.colab.kernel.accessAllowed ? 'block' : 'none';\n",
              "\n",
              "        async function convertToInteractive(key) {\n",
              "          const element = document.querySelector('#df-ab9382d5-aff4-4a3a-82d8-2fa1ae4b7697');\n",
              "          const dataTable =\n",
              "            await google.colab.kernel.invokeFunction('convertToInteractive',\n",
              "                                                     [key], {});\n",
              "          if (!dataTable) return;\n",
              "\n",
              "          const docLinkHtml = 'Like what you see? Visit the ' +\n",
              "            '<a target=\"_blank\" href=https://colab.research.google.com/notebooks/data_table.ipynb>data table notebook</a>'\n",
              "            + ' to learn more about interactive tables.';\n",
              "          element.innerHTML = '';\n",
              "          dataTable['output_type'] = 'display_data';\n",
              "          await google.colab.output.renderOutput(dataTable, element);\n",
              "          const docLink = document.createElement('div');\n",
              "          docLink.innerHTML = docLinkHtml;\n",
              "          element.appendChild(docLink);\n",
              "        }\n",
              "      </script>\n",
              "    </div>\n",
              "  </div>\n",
              "  "
            ]
          },
          "metadata": {},
          "execution_count": 8
        }
      ]
    },
    {
      "cell_type": "code",
      "source": [
        "pd_train['comment_text'].replace(r'\\s+|\\\\n', ' ', regex=True, inplace=True)\n",
        "pd_train.head(15)"
      ],
      "metadata": {
        "colab": {
          "base_uri": "https://localhost:8080/",
          "height": 519
        },
        "id": "ZskMg4-BZbC0",
        "outputId": "52f2e7ad-678a-4e76-ee23-7d05c99f2ae3"
      },
      "execution_count": null,
      "outputs": [
        {
          "output_type": "execute_result",
          "data": {
            "text/plain": [
              "                  id                                       comment_text  \\\n",
              "0   0000997932d777bf  Explanation Why the edits made under my userna...   \n",
              "1   000103f0d9cfb60f  D'aww! He matches this background colour I'm s...   \n",
              "2   000113f07ec002fd  Hey man, I'm really not trying to edit war. It...   \n",
              "3   0001b41b1c6bb37e  \" More I can't make any real suggestions on im...   \n",
              "4   0001d958c54c6e35  You, sir, are my hero. Any chance you remember...   \n",
              "5   00025465d4725e87  \" Congratulations from me as well, use the too...   \n",
              "6   0002bcb3da6cb337       COCKSUCKER BEFORE YOU PISS AROUND ON MY WORK   \n",
              "7   00031b1e95af7921  Your vandalism to the Matt Shirvington article...   \n",
              "8   00037261f536c51d  Sorry if the word 'nonsense' was offensive to ...   \n",
              "9   00040093b2687caa  alignment on this subject and which are contra...   \n",
              "10  0005300084f90edc  \" Fair use rationale for Image:Wonju.jpg Thank...   \n",
              "11  00054a5e18b50dd4  bbq be a man and lets discuss it-maybe over th...   \n",
              "12  0005c987bdfc9d4b  Hey... what is it.. @ | talk . What is it... a...   \n",
              "13  0006f16e4e9f292e  Before you start throwing accusations and warn...   \n",
              "14  00070ef96486d6f9  Oh, and the girl above started her arguments w...   \n",
              "\n",
              "    toxic  severe_toxic  obscene  threat  insult  identity_hate  \n",
              "0       0             0        0       0       0              0  \n",
              "1       0             0        0       0       0              0  \n",
              "2       0             0        0       0       0              0  \n",
              "3       0             0        0       0       0              0  \n",
              "4       0             0        0       0       0              0  \n",
              "5       0             0        0       0       0              0  \n",
              "6       1             1        1       0       1              0  \n",
              "7       0             0        0       0       0              0  \n",
              "8       0             0        0       0       0              0  \n",
              "9       0             0        0       0       0              0  \n",
              "10      0             0        0       0       0              0  \n",
              "11      0             0        0       0       0              0  \n",
              "12      1             0        0       0       0              0  \n",
              "13      0             0        0       0       0              0  \n",
              "14      0             0        0       0       0              0  "
            ],
            "text/html": [
              "\n",
              "  <div id=\"df-c1668a62-d2d3-4099-9d60-04855d244862\">\n",
              "    <div class=\"colab-df-container\">\n",
              "      <div>\n",
              "<style scoped>\n",
              "    .dataframe tbody tr th:only-of-type {\n",
              "        vertical-align: middle;\n",
              "    }\n",
              "\n",
              "    .dataframe tbody tr th {\n",
              "        vertical-align: top;\n",
              "    }\n",
              "\n",
              "    .dataframe thead th {\n",
              "        text-align: right;\n",
              "    }\n",
              "</style>\n",
              "<table border=\"1\" class=\"dataframe\">\n",
              "  <thead>\n",
              "    <tr style=\"text-align: right;\">\n",
              "      <th></th>\n",
              "      <th>id</th>\n",
              "      <th>comment_text</th>\n",
              "      <th>toxic</th>\n",
              "      <th>severe_toxic</th>\n",
              "      <th>obscene</th>\n",
              "      <th>threat</th>\n",
              "      <th>insult</th>\n",
              "      <th>identity_hate</th>\n",
              "    </tr>\n",
              "  </thead>\n",
              "  <tbody>\n",
              "    <tr>\n",
              "      <th>0</th>\n",
              "      <td>0000997932d777bf</td>\n",
              "      <td>Explanation Why the edits made under my userna...</td>\n",
              "      <td>0</td>\n",
              "      <td>0</td>\n",
              "      <td>0</td>\n",
              "      <td>0</td>\n",
              "      <td>0</td>\n",
              "      <td>0</td>\n",
              "    </tr>\n",
              "    <tr>\n",
              "      <th>1</th>\n",
              "      <td>000103f0d9cfb60f</td>\n",
              "      <td>D'aww! He matches this background colour I'm s...</td>\n",
              "      <td>0</td>\n",
              "      <td>0</td>\n",
              "      <td>0</td>\n",
              "      <td>0</td>\n",
              "      <td>0</td>\n",
              "      <td>0</td>\n",
              "    </tr>\n",
              "    <tr>\n",
              "      <th>2</th>\n",
              "      <td>000113f07ec002fd</td>\n",
              "      <td>Hey man, I'm really not trying to edit war. It...</td>\n",
              "      <td>0</td>\n",
              "      <td>0</td>\n",
              "      <td>0</td>\n",
              "      <td>0</td>\n",
              "      <td>0</td>\n",
              "      <td>0</td>\n",
              "    </tr>\n",
              "    <tr>\n",
              "      <th>3</th>\n",
              "      <td>0001b41b1c6bb37e</td>\n",
              "      <td>\" More I can't make any real suggestions on im...</td>\n",
              "      <td>0</td>\n",
              "      <td>0</td>\n",
              "      <td>0</td>\n",
              "      <td>0</td>\n",
              "      <td>0</td>\n",
              "      <td>0</td>\n",
              "    </tr>\n",
              "    <tr>\n",
              "      <th>4</th>\n",
              "      <td>0001d958c54c6e35</td>\n",
              "      <td>You, sir, are my hero. Any chance you remember...</td>\n",
              "      <td>0</td>\n",
              "      <td>0</td>\n",
              "      <td>0</td>\n",
              "      <td>0</td>\n",
              "      <td>0</td>\n",
              "      <td>0</td>\n",
              "    </tr>\n",
              "    <tr>\n",
              "      <th>5</th>\n",
              "      <td>00025465d4725e87</td>\n",
              "      <td>\" Congratulations from me as well, use the too...</td>\n",
              "      <td>0</td>\n",
              "      <td>0</td>\n",
              "      <td>0</td>\n",
              "      <td>0</td>\n",
              "      <td>0</td>\n",
              "      <td>0</td>\n",
              "    </tr>\n",
              "    <tr>\n",
              "      <th>6</th>\n",
              "      <td>0002bcb3da6cb337</td>\n",
              "      <td>COCKSUCKER BEFORE YOU PISS AROUND ON MY WORK</td>\n",
              "      <td>1</td>\n",
              "      <td>1</td>\n",
              "      <td>1</td>\n",
              "      <td>0</td>\n",
              "      <td>1</td>\n",
              "      <td>0</td>\n",
              "    </tr>\n",
              "    <tr>\n",
              "      <th>7</th>\n",
              "      <td>00031b1e95af7921</td>\n",
              "      <td>Your vandalism to the Matt Shirvington article...</td>\n",
              "      <td>0</td>\n",
              "      <td>0</td>\n",
              "      <td>0</td>\n",
              "      <td>0</td>\n",
              "      <td>0</td>\n",
              "      <td>0</td>\n",
              "    </tr>\n",
              "    <tr>\n",
              "      <th>8</th>\n",
              "      <td>00037261f536c51d</td>\n",
              "      <td>Sorry if the word 'nonsense' was offensive to ...</td>\n",
              "      <td>0</td>\n",
              "      <td>0</td>\n",
              "      <td>0</td>\n",
              "      <td>0</td>\n",
              "      <td>0</td>\n",
              "      <td>0</td>\n",
              "    </tr>\n",
              "    <tr>\n",
              "      <th>9</th>\n",
              "      <td>00040093b2687caa</td>\n",
              "      <td>alignment on this subject and which are contra...</td>\n",
              "      <td>0</td>\n",
              "      <td>0</td>\n",
              "      <td>0</td>\n",
              "      <td>0</td>\n",
              "      <td>0</td>\n",
              "      <td>0</td>\n",
              "    </tr>\n",
              "    <tr>\n",
              "      <th>10</th>\n",
              "      <td>0005300084f90edc</td>\n",
              "      <td>\" Fair use rationale for Image:Wonju.jpg Thank...</td>\n",
              "      <td>0</td>\n",
              "      <td>0</td>\n",
              "      <td>0</td>\n",
              "      <td>0</td>\n",
              "      <td>0</td>\n",
              "      <td>0</td>\n",
              "    </tr>\n",
              "    <tr>\n",
              "      <th>11</th>\n",
              "      <td>00054a5e18b50dd4</td>\n",
              "      <td>bbq be a man and lets discuss it-maybe over th...</td>\n",
              "      <td>0</td>\n",
              "      <td>0</td>\n",
              "      <td>0</td>\n",
              "      <td>0</td>\n",
              "      <td>0</td>\n",
              "      <td>0</td>\n",
              "    </tr>\n",
              "    <tr>\n",
              "      <th>12</th>\n",
              "      <td>0005c987bdfc9d4b</td>\n",
              "      <td>Hey... what is it.. @ | talk . What is it... a...</td>\n",
              "      <td>1</td>\n",
              "      <td>0</td>\n",
              "      <td>0</td>\n",
              "      <td>0</td>\n",
              "      <td>0</td>\n",
              "      <td>0</td>\n",
              "    </tr>\n",
              "    <tr>\n",
              "      <th>13</th>\n",
              "      <td>0006f16e4e9f292e</td>\n",
              "      <td>Before you start throwing accusations and warn...</td>\n",
              "      <td>0</td>\n",
              "      <td>0</td>\n",
              "      <td>0</td>\n",
              "      <td>0</td>\n",
              "      <td>0</td>\n",
              "      <td>0</td>\n",
              "    </tr>\n",
              "    <tr>\n",
              "      <th>14</th>\n",
              "      <td>00070ef96486d6f9</td>\n",
              "      <td>Oh, and the girl above started her arguments w...</td>\n",
              "      <td>0</td>\n",
              "      <td>0</td>\n",
              "      <td>0</td>\n",
              "      <td>0</td>\n",
              "      <td>0</td>\n",
              "      <td>0</td>\n",
              "    </tr>\n",
              "  </tbody>\n",
              "</table>\n",
              "</div>\n",
              "      <button class=\"colab-df-convert\" onclick=\"convertToInteractive('df-c1668a62-d2d3-4099-9d60-04855d244862')\"\n",
              "              title=\"Convert this dataframe to an interactive table.\"\n",
              "              style=\"display:none;\">\n",
              "        \n",
              "  <svg xmlns=\"http://www.w3.org/2000/svg\" height=\"24px\"viewBox=\"0 0 24 24\"\n",
              "       width=\"24px\">\n",
              "    <path d=\"M0 0h24v24H0V0z\" fill=\"none\"/>\n",
              "    <path d=\"M18.56 5.44l.94 2.06.94-2.06 2.06-.94-2.06-.94-.94-2.06-.94 2.06-2.06.94zm-11 1L8.5 8.5l.94-2.06 2.06-.94-2.06-.94L8.5 2.5l-.94 2.06-2.06.94zm10 10l.94 2.06.94-2.06 2.06-.94-2.06-.94-.94-2.06-.94 2.06-2.06.94z\"/><path d=\"M17.41 7.96l-1.37-1.37c-.4-.4-.92-.59-1.43-.59-.52 0-1.04.2-1.43.59L10.3 9.45l-7.72 7.72c-.78.78-.78 2.05 0 2.83L4 21.41c.39.39.9.59 1.41.59.51 0 1.02-.2 1.41-.59l7.78-7.78 2.81-2.81c.8-.78.8-2.07 0-2.86zM5.41 20L4 18.59l7.72-7.72 1.47 1.35L5.41 20z\"/>\n",
              "  </svg>\n",
              "      </button>\n",
              "      \n",
              "  <style>\n",
              "    .colab-df-container {\n",
              "      display:flex;\n",
              "      flex-wrap:wrap;\n",
              "      gap: 12px;\n",
              "    }\n",
              "\n",
              "    .colab-df-convert {\n",
              "      background-color: #E8F0FE;\n",
              "      border: none;\n",
              "      border-radius: 50%;\n",
              "      cursor: pointer;\n",
              "      display: none;\n",
              "      fill: #1967D2;\n",
              "      height: 32px;\n",
              "      padding: 0 0 0 0;\n",
              "      width: 32px;\n",
              "    }\n",
              "\n",
              "    .colab-df-convert:hover {\n",
              "      background-color: #E2EBFA;\n",
              "      box-shadow: 0px 1px 2px rgba(60, 64, 67, 0.3), 0px 1px 3px 1px rgba(60, 64, 67, 0.15);\n",
              "      fill: #174EA6;\n",
              "    }\n",
              "\n",
              "    [theme=dark] .colab-df-convert {\n",
              "      background-color: #3B4455;\n",
              "      fill: #D2E3FC;\n",
              "    }\n",
              "\n",
              "    [theme=dark] .colab-df-convert:hover {\n",
              "      background-color: #434B5C;\n",
              "      box-shadow: 0px 1px 3px 1px rgba(0, 0, 0, 0.15);\n",
              "      filter: drop-shadow(0px 1px 2px rgba(0, 0, 0, 0.3));\n",
              "      fill: #FFFFFF;\n",
              "    }\n",
              "  </style>\n",
              "\n",
              "      <script>\n",
              "        const buttonEl =\n",
              "          document.querySelector('#df-c1668a62-d2d3-4099-9d60-04855d244862 button.colab-df-convert');\n",
              "        buttonEl.style.display =\n",
              "          google.colab.kernel.accessAllowed ? 'block' : 'none';\n",
              "\n",
              "        async function convertToInteractive(key) {\n",
              "          const element = document.querySelector('#df-c1668a62-d2d3-4099-9d60-04855d244862');\n",
              "          const dataTable =\n",
              "            await google.colab.kernel.invokeFunction('convertToInteractive',\n",
              "                                                     [key], {});\n",
              "          if (!dataTable) return;\n",
              "\n",
              "          const docLinkHtml = 'Like what you see? Visit the ' +\n",
              "            '<a target=\"_blank\" href=https://colab.research.google.com/notebooks/data_table.ipynb>data table notebook</a>'\n",
              "            + ' to learn more about interactive tables.';\n",
              "          element.innerHTML = '';\n",
              "          dataTable['output_type'] = 'display_data';\n",
              "          await google.colab.output.renderOutput(dataTable, element);\n",
              "          const docLink = document.createElement('div');\n",
              "          docLink.innerHTML = docLinkHtml;\n",
              "          element.appendChild(docLink);\n",
              "        }\n",
              "      </script>\n",
              "    </div>\n",
              "  </div>\n",
              "  "
            ]
          },
          "metadata": {},
          "execution_count": 9
        }
      ]
    },
    {
      "cell_type": "code",
      "source": [
        "pd_train.to_csv('gdrive/My Drive/MADE/HPC_BD/pd_train.csv')"
      ],
      "metadata": {
        "id": "Dw-W5wtLkdWB"
      },
      "execution_count": null,
      "outputs": []
    },
    {
      "cell_type": "markdown",
      "source": [
        "##Подключения к SparkContext"
      ],
      "metadata": {
        "id": "KjPtXUlX6VwR"
      }
    },
    {
      "cell_type": "code",
      "execution_count": null,
      "metadata": {
        "id": "MEqIsMhZrJOm",
        "outputId": "02512f3a-a6b2-4a07-a026-8a2f1b0a7fbd",
        "colab": {
          "base_uri": "https://localhost:8080/"
        }
      },
      "outputs": [
        {
          "output_type": "stream",
          "name": "stderr",
          "text": [
            "/usr/local/lib/python3.8/dist-packages/pyspark/sql/context.py:112: FutureWarning: Deprecated in 3.0.0. Use SparkSession.builder.getOrCreate() instead.\n",
            "  warnings.warn(\n"
          ]
        },
        {
          "output_type": "stream",
          "name": "stdout",
          "text": [
            "Just created a SparkContext\n"
          ]
        }
      ],
      "source": [
        "sc = None\n",
        "sqlContext = None\n",
        "\n",
        "try:\n",
        "    # create SparkContext on all CPUs available: in my case I have 4 CPUs on my laptop\n",
        "    sc = ps.SparkContext('local[4]')\n",
        "    sqlContext = SQLContext(sc)\n",
        "    print(\"Just created a SparkContext\")\n",
        "except ValueError:\n",
        "    warnings.warn(\"SparkContext already exists in this scope\")"
      ]
    },
    {
      "cell_type": "code",
      "source": [
        "#change file path\n",
        "df_train = sqlContext.read.format('com.databricks.spark.csv').options(header='true', inferschema='true',mode =\"DROPMALFORMED\").load('gdrive/My Drive/MADE/HPC_BD/pd_train.csv')\n",
        "df_train.show(15)"
      ],
      "metadata": {
        "colab": {
          "base_uri": "https://localhost:8080/"
        },
        "id": "Zy7zKL-wXy4f",
        "outputId": "7cc64964-473e-4dce-81e9-9409e7821b3a"
      },
      "execution_count": null,
      "outputs": [
        {
          "output_type": "stream",
          "name": "stdout",
          "text": [
            "+---+----------------+--------------------+-----+------------+-------+------+------+-------------+\n",
            "|_c0|              id|        comment_text|toxic|severe_toxic|obscene|threat|insult|identity_hate|\n",
            "+---+----------------+--------------------+-----+------------+-------+------+------+-------------+\n",
            "|  0|0000997932d777bf|Explanation Why t...|    0|           0|      0|     0|     0|            0|\n",
            "|  1|000103f0d9cfb60f|D'aww! He matches...|    0|           0|      0|     0|     0|            0|\n",
            "|  2|000113f07ec002fd|Hey man, I'm real...|    0|           0|      0|     0|     0|            0|\n",
            "|  4|0001d958c54c6e35|You, sir, are my ...|    0|           0|      0|     0|     0|            0|\n",
            "|  6|0002bcb3da6cb337|COCKSUCKER BEFORE...|    1|           1|      1|     0|     1|            0|\n",
            "|  7|00031b1e95af7921|Your vandalism to...|    0|           0|      0|     0|     0|            0|\n",
            "|  8|00037261f536c51d|Sorry if the word...|    0|           0|      0|     0|     0|            0|\n",
            "|  9|00040093b2687caa|alignment on this...|    0|           0|      0|     0|     0|            0|\n",
            "| 11|00054a5e18b50dd4|bbq be a man and ...|    0|           0|      0|     0|     0|            0|\n",
            "| 12|0005c987bdfc9d4b|Hey... what is it...|    1|           0|      0|     0|     0|            0|\n",
            "| 13|0006f16e4e9f292e|Before you start ...|    0|           0|      0|     0|     0|            0|\n",
            "| 14|00070ef96486d6f9|Oh, and the girl ...|    0|           0|      0|     0|     0|            0|\n",
            "| 16|0007e25b2121310b|Bye! Don't look, ...|    1|           0|      0|     0|     0|            0|\n",
            "| 17|000897889268bc93|REDIRECT Talk:Voy...|    0|           0|      0|     0|     0|            0|\n",
            "| 18|0009801bd85e5806|The Mitsurugi poi...|    0|           0|      0|     0|     0|            0|\n",
            "+---+----------------+--------------------+-----+------------+-------+------+------+-------------+\n",
            "only showing top 15 rows\n",
            "\n"
          ]
        }
      ]
    },
    {
      "cell_type": "code",
      "source": [
        "#разделение данных\n",
        "(train_set, val_set, test_set) = df_train.randomSplit([0.98, 0.01, 0.01], seed = 2000)"
      ],
      "metadata": {
        "id": "6A14dMOmca9u"
      },
      "execution_count": null,
      "outputs": []
    },
    {
      "cell_type": "markdown",
      "source": [
        "## HashingTF и IDF"
      ],
      "metadata": {
        "id": "qy2Pt-UzwyeB"
      }
    },
    {
      "cell_type": "markdown",
      "source": [
        "###toxic"
      ],
      "metadata": {
        "id": "jt2dRMKFuru1"
      }
    },
    {
      "cell_type": "code",
      "source": [
        "#toxic\n",
        "tokenizer_toxic = Tokenizer(inputCol=\"comment_text\", outputCol=\"words\")\n",
        "hashtf_toxic = HashingTF(numFeatures=2**16, inputCol=\"words\", outputCol='tf')\n",
        "idf_toxic = IDF(inputCol='tf', outputCol=\"features\", minDocFreq=5) #minDocFreq: remove sparse terms\n",
        "label_stringIdx_toxic = StringIndexer(inputCol = \"toxic\", outputCol = \"label\")\n",
        "pipeline_toxic = Pipeline(stages=[tokenizer_toxic, hashtf_toxic, idf_toxic, label_stringIdx_toxic])\n",
        "\n",
        "pipelineFit_toxic = pipeline_toxic.fit(train_set)\n",
        "train_df_toxic = pipelineFit_toxic.transform(train_set)\n",
        "val_df_toxic = pipelineFit_toxic.transform(val_set)\n",
        "test_df_toxic = pipelineFit_toxic.transform(test_set)\n",
        "train_df_toxic.show(5)"
      ],
      "metadata": {
        "colab": {
          "base_uri": "https://localhost:8080/"
        },
        "id": "8moLn3tbca24",
        "outputId": "5a84298c-0f2d-4c17-e320-c9743aeba5df"
      },
      "execution_count": null,
      "outputs": [
        {
          "output_type": "stream",
          "name": "stdout",
          "text": [
            "+---+----------------+--------------------+-----+------------+-------+------+------+-------------+--------------------+--------------------+--------------------+-----+\n",
            "|_c0|              id|        comment_text|toxic|severe_toxic|obscene|threat|insult|identity_hate|               words|                  tf|            features|label|\n",
            "+---+----------------+--------------------+-----+------------+-------+------+------+-------------+--------------------+--------------------+--------------------+-----+\n",
            "|  0|0000997932d777bf|Explanation Why t...|    0|           0|      0|     0|     0|            0|[explanation, why...|(65536,[763,1880,...|(65536,[763,1880,...|  0.0|\n",
            "|  1|000103f0d9cfb60f|D'aww! He matches...|    0|           0|      0|     0|     0|            0|[d'aww!, he, matc...|(65536,[2195,4714...|(65536,[2195,4714...|  0.0|\n",
            "|  2|000113f07ec002fd|Hey man, I'm real...|    0|           0|      0|     0|     0|            0|[hey, man,, i'm, ...|(65536,[6589,1001...|(65536,[6589,1001...|  0.0|\n",
            "|  4|0001d958c54c6e35|You, sir, are my ...|    0|           0|      0|     0|     0|            0|[you,, sir,, are,...|(65536,[389,2762,...|(65536,[389,2762,...|  0.0|\n",
            "|  6|0002bcb3da6cb337|COCKSUCKER BEFORE...|    1|           1|      1|     0|     1|            0|[cocksucker, befo...|(65536,[1880,1835...|(65536,[1880,1835...|  1.0|\n",
            "+---+----------------+--------------------+-----+------------+-------+------+------+-------------+--------------------+--------------------+--------------------+-----+\n",
            "only showing top 5 rows\n",
            "\n"
          ]
        }
      ]
    },
    {
      "cell_type": "code",
      "source": [
        "lr_toxic = LogisticRegression(maxIter=100)\n",
        "lrModel_toxic = lr_toxic.fit(train_df_toxic)\n",
        "predictions_toxic = lrModel_toxic.transform(val_df_toxic)\n",
        "test_toxic = lrModel_toxic.transform(test_df_toxic)"
      ],
      "metadata": {
        "id": "tJ0333aGca0S"
      },
      "execution_count": null,
      "outputs": []
    },
    {
      "cell_type": "code",
      "source": [
        "predictions_toxic"
      ],
      "metadata": {
        "colab": {
          "base_uri": "https://localhost:8080/"
        },
        "id": "EPl5MVprcaxq",
        "outputId": "a247125b-4ccc-458a-e961-8c094092272e"
      },
      "execution_count": null,
      "outputs": [
        {
          "output_type": "execute_result",
          "data": {
            "text/plain": [
              "DataFrame[_c0: int, id: string, comment_text: string, toxic: string, severe_toxic: string, obscene: string, threat: string, insult: string, identity_hate: string, words: array<string>, tf: vector, features: vector, label: double, rawPrediction: vector, probability: vector, prediction: double]"
            ]
          },
          "metadata": {},
          "execution_count": 16
        }
      ]
    },
    {
      "cell_type": "code",
      "source": [
        "test_toxic"
      ],
      "metadata": {
        "colab": {
          "base_uri": "https://localhost:8080/"
        },
        "id": "I2X9CfCvIKru",
        "outputId": "5c6b35ac-de93-4702-a54b-b384ecddadd8"
      },
      "execution_count": null,
      "outputs": [
        {
          "output_type": "execute_result",
          "data": {
            "text/plain": [
              "DataFrame[_c0: int, id: string, comment_text: string, toxic: string, severe_toxic: string, obscene: string, threat: string, insult: string, identity_hate: string, words: array<string>, tf: vector, features: vector, label: double, rawPrediction: vector, probability: vector, prediction: double]"
            ]
          },
          "metadata": {},
          "execution_count": 17
        }
      ]
    },
    {
      "cell_type": "code",
      "source": [
        "#PySpark встроенная метрика areaUnderROC\n",
        "evaluator_toxic = BinaryClassificationEvaluator(rawPredictionCol=\"rawPrediction\")\n",
        "evaluator_toxic.evaluate(predictions_toxic)"
      ],
      "metadata": {
        "colab": {
          "base_uri": "https://localhost:8080/"
        },
        "id": "JWs9Pt9tcau7",
        "outputId": "fc25f5e3-b799-47eb-fd3e-e046f81d2bc0"
      },
      "execution_count": null,
      "outputs": [
        {
          "output_type": "execute_result",
          "data": {
            "text/plain": [
              "0.8326975892584698"
            ]
          },
          "metadata": {},
          "execution_count": 18
        }
      ]
    },
    {
      "cell_type": "code",
      "source": [
        "#PySpark встроенная метрика areaUnderROC\n",
        "evaluator_toxic_test = BinaryClassificationEvaluator(rawPredictionCol=\"rawPrediction\")\n",
        "evaluator_toxic_test.evaluate(test_toxic)"
      ],
      "metadata": {
        "colab": {
          "base_uri": "https://localhost:8080/"
        },
        "id": "Miz2FoiWIRK5",
        "outputId": "24cd5372-14b3-4600-8052-92aeb365ea9c"
      },
      "execution_count": null,
      "outputs": [
        {
          "output_type": "execute_result",
          "data": {
            "text/plain": [
              "0.8168055400277524"
            ]
          },
          "metadata": {},
          "execution_count": 19
        }
      ]
    },
    {
      "cell_type": "code",
      "source": [
        "evaluator_toxic.getMetricName()"
      ],
      "metadata": {
        "colab": {
          "base_uri": "https://localhost:8080/",
          "height": 36
        },
        "id": "Fy35k5NycasR",
        "outputId": "6a390f7a-2019-448f-fd49-d60407a78c46"
      },
      "execution_count": null,
      "outputs": [
        {
          "output_type": "execute_result",
          "data": {
            "text/plain": [
              "'areaUnderROC'"
            ],
            "application/vnd.google.colaboratory.intrinsic+json": {
              "type": "string"
            }
          },
          "metadata": {},
          "execution_count": 20
        }
      ]
    },
    {
      "cell_type": "code",
      "source": [
        "predictions_toxic.show(5)"
      ],
      "metadata": {
        "colab": {
          "base_uri": "https://localhost:8080/"
        },
        "id": "2OmDpzoZfc61",
        "outputId": "d17dcd5d-ca6e-45a0-a4e1-9b3af40b72da"
      },
      "execution_count": null,
      "outputs": [
        {
          "output_type": "stream",
          "name": "stdout",
          "text": [
            "+---+----------------+--------------------+-----+------------+-------+------+------+-------------+--------------------+--------------------+--------------------+-----+--------------------+--------------------+----------+\n",
            "|_c0|              id|        comment_text|toxic|severe_toxic|obscene|threat|insult|identity_hate|               words|                  tf|            features|label|       rawPrediction|         probability|prediction|\n",
            "+---+----------------+--------------------+-----+------------+-------+------+------+-------------+--------------------+--------------------+--------------------+-----+--------------------+--------------------+----------+\n",
            "|182|006eaaaca322e12d|\"\"\") (ETA: John D...|    0|           0|      0|     0|     0|            0|[\"\"\"), (eta:, joh...|(65536,[19271,267...|(65536,[19271,267...|  0.0|[-11.311266554283...|[1.22341567017678...|       1.0|\n",
            "|306|00c41d6b52961339|Will you make the...|    0|           0|      0|     0|     0|            0|[will, you, make,...|(65536,[9477,1835...|(65536,[9477,1835...|  0.0|[20.1283181412559...|[0.99999999818706...|       0.0|\n",
            "|684|01d8285e76f59d25|Oh, sorry. I actu...|    0|           0|      0|     0|     0|            0|[oh,, sorry., i, ...|(65536,[1880,1903...|(65536,[1880,1903...|  0.0|[58.1761675818516...|           [1.0,0.0]|       0.0|\n",
            "|718|01f0f77e6e58b347|Do not help the j...|    1|           0|      0|     0|     0|            0|[do, not, help, t...|(65536,[10552,129...|(65536,[10552,129...|  1.0|[-6.5264092339378...|[0.00146211331008...|       1.0|\n",
            "|799|021f3afbb7aaa938|Content subsumed ...|    0|           0|      0|     0|     0|            0|[content, subsume...|(65536,[1995,4939...|(65536,[1995,4939...|  0.0|[72.1619735350377...|           [1.0,0.0]|       0.0|\n",
            "+---+----------------+--------------------+-----+------------+-------+------+------+-------------+--------------------+--------------------+--------------------+-----+--------------------+--------------------+----------+\n",
            "only showing top 5 rows\n",
            "\n"
          ]
        }
      ]
    },
    {
      "cell_type": "code",
      "source": [
        "#accuracy_toxic_val\n",
        "accuracy_toxic = predictions_toxic.filter(predictions_toxic.label == predictions_toxic.prediction).count() / float(val_set.count())\n",
        "accuracy_toxic"
      ],
      "metadata": {
        "colab": {
          "base_uri": "https://localhost:8080/"
        },
        "id": "stCd_g1mcapW",
        "outputId": "e8b8374e-0cd9-4638-9f6c-1959b5abf2a2"
      },
      "execution_count": null,
      "outputs": [
        {
          "output_type": "execute_result",
          "data": {
            "text/plain": [
              "0.8599827139152982"
            ]
          },
          "metadata": {},
          "execution_count": 22
        }
      ]
    },
    {
      "cell_type": "code",
      "source": [
        "#accuracy_toxic_test\n",
        "accuracy_toxic_test = test_toxic.filter(test_toxic.label == test_toxic.prediction).count() / float(test_set.count())\n",
        "accuracy_toxic_test"
      ],
      "metadata": {
        "colab": {
          "base_uri": "https://localhost:8080/"
        },
        "id": "ymZhgqbjJAId",
        "outputId": "8103f740-cc55-436c-c6d7-e65f30aa891a"
      },
      "execution_count": null,
      "outputs": [
        {
          "output_type": "execute_result",
          "data": {
            "text/plain": [
              "0.8488773747841105"
            ]
          },
          "metadata": {},
          "execution_count": 23
        }
      ]
    },
    {
      "cell_type": "markdown",
      "source": [
        "**accuracy на валидации 0.86, accuracy на тесте 0.85. Результаты на тесте и влидации не силно отличаются**"
      ],
      "metadata": {
        "id": "M9AsZXa-5kPv"
      }
    },
    {
      "cell_type": "markdown",
      "source": [
        "###severe_toxic"
      ],
      "metadata": {
        "id": "ypnGlzK4uwFF"
      }
    },
    {
      "cell_type": "code",
      "source": [
        "#severe_toxic\n",
        "tokenizer_severe_toxic = Tokenizer(inputCol=\"comment_text\", outputCol=\"words\")\n",
        "hashtf_severe_toxic = HashingTF(numFeatures=2**16, inputCol=\"words\", outputCol='tf')\n",
        "idf_severe_toxic = IDF(inputCol='tf', outputCol=\"features\", minDocFreq=5) #minDocFreq: remove sparse terms\n",
        "label_stringIdx_severe_toxic = StringIndexer(inputCol = \"severe_toxic\", outputCol = \"label\")\n",
        "pipeline_severe_toxic = Pipeline(stages=[tokenizer_severe_toxic, hashtf_severe_toxic, idf_severe_toxic, label_stringIdx_severe_toxic])\n",
        "\n",
        "pipelineFit_severe_toxic = pipeline_severe_toxic.fit(train_set)\n",
        "train_df_severe_toxic = pipelineFit_severe_toxic.transform(train_set)\n",
        "val_df_severe_toxic = pipelineFit_severe_toxic.transform(val_set)\n",
        "test_df_severe_toxic = pipelineFit_severe_toxic.transform(test_set)\n",
        "train_df_severe_toxic.show(5)"
      ],
      "metadata": {
        "colab": {
          "base_uri": "https://localhost:8080/"
        },
        "id": "WDPvlApLcakH",
        "outputId": "082eb534-02d1-414c-885f-b1257815abbb"
      },
      "execution_count": null,
      "outputs": [
        {
          "output_type": "stream",
          "name": "stdout",
          "text": [
            "+---+----------------+--------------------+-----+------------+-------+------+------+-------------+--------------------+--------------------+--------------------+-----+\n",
            "|_c0|              id|        comment_text|toxic|severe_toxic|obscene|threat|insult|identity_hate|               words|                  tf|            features|label|\n",
            "+---+----------------+--------------------+-----+------------+-------+------+------+-------------+--------------------+--------------------+--------------------+-----+\n",
            "|  0|0000997932d777bf|Explanation Why t...|    0|           0|      0|     0|     0|            0|[explanation, why...|(65536,[763,1880,...|(65536,[763,1880,...|  0.0|\n",
            "|  1|000103f0d9cfb60f|D'aww! He matches...|    0|           0|      0|     0|     0|            0|[d'aww!, he, matc...|(65536,[2195,4714...|(65536,[2195,4714...|  0.0|\n",
            "|  2|000113f07ec002fd|Hey man, I'm real...|    0|           0|      0|     0|     0|            0|[hey, man,, i'm, ...|(65536,[6589,1001...|(65536,[6589,1001...|  0.0|\n",
            "|  4|0001d958c54c6e35|You, sir, are my ...|    0|           0|      0|     0|     0|            0|[you,, sir,, are,...|(65536,[389,2762,...|(65536,[389,2762,...|  0.0|\n",
            "|  6|0002bcb3da6cb337|COCKSUCKER BEFORE...|    1|           1|      1|     0|     1|            0|[cocksucker, befo...|(65536,[1880,1835...|(65536,[1880,1835...|  1.0|\n",
            "+---+----------------+--------------------+-----+------------+-------+------+------+-------------+--------------------+--------------------+--------------------+-----+\n",
            "only showing top 5 rows\n",
            "\n"
          ]
        }
      ]
    },
    {
      "cell_type": "code",
      "source": [
        "lr_severe_toxic = LogisticRegression(maxIter=100)\n",
        "lrModel_severe_toxic = lr_severe_toxic.fit(train_df_severe_toxic)\n",
        "predictions_severe_toxic = lrModel_severe_toxic.transform(val_df_severe_toxic)\n",
        "test_severe_toxic = lrModel_severe_toxic.transform(test_df_severe_toxic)"
      ],
      "metadata": {
        "id": "BfNd5tpIcahb"
      },
      "execution_count": null,
      "outputs": []
    },
    {
      "cell_type": "code",
      "source": [
        "evaluator_severe_toxic = BinaryClassificationEvaluator(rawPredictionCol=\"rawPrediction\")\n",
        "evaluator_severe_toxic.evaluate(predictions_severe_toxic)"
      ],
      "metadata": {
        "colab": {
          "base_uri": "https://localhost:8080/"
        },
        "id": "5IXfguylcaek",
        "outputId": "75397270-4123-4739-d0de-af604df9246c"
      },
      "execution_count": null,
      "outputs": [
        {
          "output_type": "execute_result",
          "data": {
            "text/plain": [
              "0.7425363098440031"
            ]
          },
          "metadata": {},
          "execution_count": 26
        }
      ]
    },
    {
      "cell_type": "code",
      "source": [
        "evaluator_severe_toxic_test = BinaryClassificationEvaluator(rawPredictionCol=\"rawPrediction\")\n",
        "evaluator_severe_toxic_test.evaluate(test_severe_toxic)"
      ],
      "metadata": {
        "colab": {
          "base_uri": "https://localhost:8080/"
        },
        "id": "zaw2aMZXn0DQ",
        "outputId": "eb293d5b-88fa-4882-e67f-4e15aa3e547b"
      },
      "execution_count": null,
      "outputs": [
        {
          "output_type": "execute_result",
          "data": {
            "text/plain": [
              "0.6670862521891413"
            ]
          },
          "metadata": {},
          "execution_count": 28
        }
      ]
    },
    {
      "cell_type": "code",
      "source": [
        "evaluator_severe_toxic_test.getMetricName()"
      ],
      "metadata": {
        "colab": {
          "base_uri": "https://localhost:8080/",
          "height": 36
        },
        "id": "uE5-MyOHsJMS",
        "outputId": "91d3f1e4-c28e-4bf7-9fe0-a5d45f9ad663"
      },
      "execution_count": null,
      "outputs": [
        {
          "output_type": "execute_result",
          "data": {
            "text/plain": [
              "'areaUnderROC'"
            ],
            "application/vnd.google.colaboratory.intrinsic+json": {
              "type": "string"
            }
          },
          "metadata": {},
          "execution_count": 31
        }
      ]
    },
    {
      "cell_type": "code",
      "source": [
        "#accuracy_severe_toxic_val\n",
        "accuracy_severe_toxic = predictions_severe_toxic.filter(predictions_severe_toxic.label == predictions_severe_toxic.prediction).count() / float(val_set.count())\n",
        "accuracy_severe_toxic"
      ],
      "metadata": {
        "colab": {
          "base_uri": "https://localhost:8080/"
        },
        "id": "iEGyJTrVcabv",
        "outputId": "36a992eb-82c8-42e9-c128-eb15a93a5870"
      },
      "execution_count": null,
      "outputs": [
        {
          "output_type": "execute_result",
          "data": {
            "text/plain": [
              "0.9446845289541919"
            ]
          },
          "metadata": {},
          "execution_count": 29
        }
      ]
    },
    {
      "cell_type": "code",
      "source": [
        "#accuracy_toxic_test\n",
        "accuracy_toxic_test = test_toxic.filter(test_toxic.label == test_toxic.prediction).count() / float(test_set.count())\n",
        "accuracy_toxic_test"
      ],
      "metadata": {
        "colab": {
          "base_uri": "https://localhost:8080/"
        },
        "id": "EOD6Up8WpdS7",
        "outputId": "48fb9e6f-2056-454e-9e5d-b4da82ca2ca4"
      },
      "execution_count": null,
      "outputs": [
        {
          "output_type": "execute_result",
          "data": {
            "text/plain": [
              "0.8488773747841105"
            ]
          },
          "metadata": {},
          "execution_count": 30
        }
      ]
    },
    {
      "cell_type": "markdown",
      "source": [
        "**accuracy на валидации 0.94, accuracy на тесте 0.85. Результаты на тесте и влидации не силно отличаются, модель не переобучилась**"
      ],
      "metadata": {
        "id": "mk7eZ4fS6xpH"
      }
    },
    {
      "cell_type": "markdown",
      "source": [
        "###obscene"
      ],
      "metadata": {
        "id": "Bq1JNCEAuy6N"
      }
    },
    {
      "cell_type": "code",
      "source": [
        "#obscene\n",
        "\n",
        "tokenizer_obscene = Tokenizer(inputCol=\"comment_text\", outputCol=\"words\")\n",
        "hashtf_obscene = HashingTF(numFeatures=2**16, inputCol=\"words\", outputCol='tf')\n",
        "idf_obscene = IDF(inputCol='tf', outputCol=\"features\", minDocFreq=5) #minDocFreq: remove sparse terms\n",
        "label_stringIdx_obscene = StringIndexer(inputCol = \"obscene\", outputCol = \"label\")\n",
        "pipeline_obscene = Pipeline(stages=[tokenizer_obscene, hashtf_obscene, idf_obscene, label_stringIdx_obscene])\n",
        "\n",
        "pipelineFit_obscene = pipeline_obscene.fit(train_set)\n",
        "train_df_obscene = pipelineFit_obscene.transform(train_set)\n",
        "val_df_obscene = pipelineFit_obscene.transform(val_set)\n",
        "test_df_obscene = pipelineFit_obscene.transform(test_set)\n",
        "train_df_obscene.show(5)"
      ],
      "metadata": {
        "colab": {
          "base_uri": "https://localhost:8080/"
        },
        "id": "l1ojyP11go4W",
        "outputId": "a62bf84a-de65-401e-b37d-7dc684786600"
      },
      "execution_count": null,
      "outputs": [
        {
          "output_type": "stream",
          "name": "stdout",
          "text": [
            "+---+----------------+--------------------+-----+------------+-------+------+------+-------------+--------------------+--------------------+--------------------+-----+\n",
            "|_c0|              id|        comment_text|toxic|severe_toxic|obscene|threat|insult|identity_hate|               words|                  tf|            features|label|\n",
            "+---+----------------+--------------------+-----+------------+-------+------+------+-------------+--------------------+--------------------+--------------------+-----+\n",
            "|  0|0000997932d777bf|Explanation Why t...|    0|           0|      0|     0|     0|            0|[explanation, why...|(65536,[763,1880,...|(65536,[763,1880,...|  0.0|\n",
            "|  1|000103f0d9cfb60f|D'aww! He matches...|    0|           0|      0|     0|     0|            0|[d'aww!, he, matc...|(65536,[2195,4714...|(65536,[2195,4714...|  0.0|\n",
            "|  2|000113f07ec002fd|Hey man, I'm real...|    0|           0|      0|     0|     0|            0|[hey, man,, i'm, ...|(65536,[6589,1001...|(65536,[6589,1001...|  0.0|\n",
            "|  4|0001d958c54c6e35|You, sir, are my ...|    0|           0|      0|     0|     0|            0|[you,, sir,, are,...|(65536,[389,2762,...|(65536,[389,2762,...|  0.0|\n",
            "|  6|0002bcb3da6cb337|COCKSUCKER BEFORE...|    1|           1|      1|     0|     1|            0|[cocksucker, befo...|(65536,[1880,1835...|(65536,[1880,1835...|  1.0|\n",
            "+---+----------------+--------------------+-----+------------+-------+------+------+-------------+--------------------+--------------------+--------------------+-----+\n",
            "only showing top 5 rows\n",
            "\n"
          ]
        }
      ]
    },
    {
      "cell_type": "code",
      "source": [
        "lr_obscene = LogisticRegression(maxIter=100)\n",
        "lrModel_obscene = lr_obscene.fit(train_df_obscene)\n",
        "predictions_obscene = lrModel_obscene.transform(val_df_obscene)\n",
        "test_obscene = lrModel_obscene.transform(test_df_obscene)"
      ],
      "metadata": {
        "id": "8tN5emdfhctY"
      },
      "execution_count": null,
      "outputs": []
    },
    {
      "cell_type": "code",
      "source": [
        "evaluator_obscene.getMetricName()"
      ],
      "metadata": {
        "colab": {
          "base_uri": "https://localhost:8080/",
          "height": 36
        },
        "id": "r-sN_SBos7Zc",
        "outputId": "5cf51f8b-6e7c-43d7-90de-31591c4cf126"
      },
      "execution_count": null,
      "outputs": [
        {
          "output_type": "execute_result",
          "data": {
            "text/plain": [
              "'areaUnderROC'"
            ],
            "application/vnd.google.colaboratory.intrinsic+json": {
              "type": "string"
            }
          },
          "metadata": {},
          "execution_count": 37
        }
      ]
    },
    {
      "cell_type": "code",
      "source": [
        "evaluator_obscene = BinaryClassificationEvaluator(rawPredictionCol=\"rawPrediction\")\n",
        "evaluator_obscene.evaluate(predictions_obscene)"
      ],
      "metadata": {
        "colab": {
          "base_uri": "https://localhost:8080/"
        },
        "id": "E_6m7I42hcra",
        "outputId": "868ea46c-b889-49f7-c31c-fd97cd55284a"
      },
      "execution_count": null,
      "outputs": [
        {
          "output_type": "execute_result",
          "data": {
            "text/plain": [
              "0.7972652689152232"
            ]
          },
          "metadata": {},
          "execution_count": 35
        }
      ]
    },
    {
      "cell_type": "code",
      "source": [
        "evaluator_obscene_test = BinaryClassificationEvaluator(rawPredictionCol=\"rawPrediction\")\n",
        "evaluator_obscene_test.evaluate(test_obscene)"
      ],
      "metadata": {
        "colab": {
          "base_uri": "https://localhost:8080/"
        },
        "id": "L24q5ct8ocMc",
        "outputId": "bea9917b-622d-4838-b9f7-ae57999f07fa"
      },
      "execution_count": null,
      "outputs": [
        {
          "output_type": "execute_result",
          "data": {
            "text/plain": [
              "0.7647273468774491"
            ]
          },
          "metadata": {},
          "execution_count": 36
        }
      ]
    },
    {
      "cell_type": "code",
      "source": [
        "#accuracy_obscene_val\n",
        "accuracy_obscene = predictions_obscene.filter(predictions_obscene.label == predictions_obscene.prediction).count() / float(val_set.count())\n",
        "accuracy_obscene"
      ],
      "metadata": {
        "colab": {
          "base_uri": "https://localhost:8080/"
        },
        "id": "sGv6owsVhcl5",
        "outputId": "d067c3af-2a4e-476a-aff5-d8cfb9e991ea"
      },
      "execution_count": null,
      "outputs": [
        {
          "output_type": "execute_result",
          "data": {
            "text/plain": [
              "0.8980121002592912"
            ]
          },
          "metadata": {},
          "execution_count": 38
        }
      ]
    },
    {
      "cell_type": "code",
      "source": [
        "#accuracy_obscene_test\n",
        "accuracy_obscene_test = test_obscene.filter(test_obscene.label == test_obscene.prediction).count() / float(test_set.count())\n",
        "accuracy_obscene_test"
      ],
      "metadata": {
        "colab": {
          "base_uri": "https://localhost:8080/"
        },
        "id": "1udVNeGdpvTz",
        "outputId": "8703eaad-b3c8-4617-916d-3b01e6e4ab80"
      },
      "execution_count": null,
      "outputs": [
        {
          "output_type": "execute_result",
          "data": {
            "text/plain": [
              "0.8773747841105354"
            ]
          },
          "metadata": {},
          "execution_count": 39
        }
      ]
    },
    {
      "cell_type": "markdown",
      "source": [
        "**accuracy на валидации 0.9, accuracy на тесте 0.88. Результаты на тесте и влидации не силно отличаются, модель не переобучилась**"
      ],
      "metadata": {
        "id": "1SN11zvR63f9"
      }
    },
    {
      "cell_type": "markdown",
      "source": [
        "###threat"
      ],
      "metadata": {
        "id": "BSpK0tOcu2qE"
      }
    },
    {
      "cell_type": "code",
      "source": [
        "#threat\n",
        "\n",
        "tokenizer_threat = Tokenizer(inputCol=\"comment_text\", outputCol=\"words\")\n",
        "hashtf_threat = HashingTF(numFeatures=2**16, inputCol=\"words\", outputCol='tf')\n",
        "idf_threat = IDF(inputCol='tf', outputCol=\"features\", minDocFreq=5) #minDocFreq: remove sparse terms\n",
        "label_stringIdx_threat = StringIndexer(inputCol = \"threat\", outputCol = \"label\")\n",
        "pipeline_threat = Pipeline(stages=[tokenizer_threat, hashtf_threat, idf_threat, label_stringIdx_threat])\n",
        "\n",
        "pipelineFit_threat = pipeline_threat.fit(train_set)\n",
        "train_df_threat = pipelineFit_threat.transform(train_set)\n",
        "val_df_threat = pipelineFit_threat.transform(val_set)\n",
        "test_df_threat = pipelineFit_threat.transform(test_set)\n",
        "train_df_threat.show(5)"
      ],
      "metadata": {
        "colab": {
          "base_uri": "https://localhost:8080/"
        },
        "id": "x2_-mAIuqykp",
        "outputId": "575bf3ab-421e-4db5-91ac-09dc23ab6d20"
      },
      "execution_count": null,
      "outputs": [
        {
          "output_type": "stream",
          "name": "stdout",
          "text": [
            "+---+----------------+--------------------+-----+------------+-------+------+------+-------------+--------------------+--------------------+--------------------+-----+\n",
            "|_c0|              id|        comment_text|toxic|severe_toxic|obscene|threat|insult|identity_hate|               words|                  tf|            features|label|\n",
            "+---+----------------+--------------------+-----+------------+-------+------+------+-------------+--------------------+--------------------+--------------------+-----+\n",
            "|  0|0000997932d777bf|Explanation Why t...|    0|           0|      0|     0|     0|            0|[explanation, why...|(65536,[763,1880,...|(65536,[763,1880,...|  0.0|\n",
            "|  1|000103f0d9cfb60f|D'aww! He matches...|    0|           0|      0|     0|     0|            0|[d'aww!, he, matc...|(65536,[2195,4714...|(65536,[2195,4714...|  0.0|\n",
            "|  2|000113f07ec002fd|Hey man, I'm real...|    0|           0|      0|     0|     0|            0|[hey, man,, i'm, ...|(65536,[6589,1001...|(65536,[6589,1001...|  0.0|\n",
            "|  4|0001d958c54c6e35|You, sir, are my ...|    0|           0|      0|     0|     0|            0|[you,, sir,, are,...|(65536,[389,2762,...|(65536,[389,2762,...|  0.0|\n",
            "|  6|0002bcb3da6cb337|COCKSUCKER BEFORE...|    1|           1|      1|     0|     1|            0|[cocksucker, befo...|(65536,[1880,1835...|(65536,[1880,1835...|  0.0|\n",
            "+---+----------------+--------------------+-----+------------+-------+------+------+-------------+--------------------+--------------------+--------------------+-----+\n",
            "only showing top 5 rows\n",
            "\n"
          ]
        }
      ]
    },
    {
      "cell_type": "code",
      "source": [
        "lr_threat = LogisticRegression(maxIter=100)\n",
        "lrModel_threat = lr_threat.fit(train_df_threat)\n",
        "predictions_threat = lrModel_threat.transform(val_df_threat)\n",
        "test_threat = lrModel_threat.transform(test_df_threat)"
      ],
      "metadata": {
        "id": "0kMZykHBhcbW"
      },
      "execution_count": null,
      "outputs": []
    },
    {
      "cell_type": "code",
      "source": [
        "evaluator_threat = BinaryClassificationEvaluator(rawPredictionCol=\"rawPrediction\")\n",
        "evaluator_threat.evaluate(predictions_threat)"
      ],
      "metadata": {
        "colab": {
          "base_uri": "https://localhost:8080/"
        },
        "id": "csojRu4ShcYq",
        "outputId": "66efc801-ec6f-4967-998f-a6d090099a19"
      },
      "execution_count": null,
      "outputs": [
        {
          "output_type": "execute_result",
          "data": {
            "text/plain": [
              "0.9831168831168832"
            ]
          },
          "metadata": {},
          "execution_count": 42
        }
      ]
    },
    {
      "cell_type": "code",
      "source": [
        "#accuracy_threat_val\n",
        "accuracy_threat = predictions_threat.filter(predictions_threat.label == predictions_threat.prediction).count() / float(val_set.count())\n",
        "accuracy_threat"
      ],
      "metadata": {
        "colab": {
          "base_uri": "https://localhost:8080/"
        },
        "id": "TivG2FaUhcWB",
        "outputId": "660f64a9-7d98-4b3d-8078-1e5ba314e733"
      },
      "execution_count": null,
      "outputs": [
        {
          "output_type": "execute_result",
          "data": {
            "text/plain": [
              "0.9714779602420052"
            ]
          },
          "metadata": {},
          "execution_count": 44
        }
      ]
    },
    {
      "cell_type": "code",
      "source": [
        "#accuracy_threat_test\n",
        "accuracy_threat_test = test_threat.filter(test_threat.label == test_threat.prediction).count() / float(test_set.count())\n",
        "accuracy_threat_test"
      ],
      "metadata": {
        "colab": {
          "base_uri": "https://localhost:8080/"
        },
        "id": "x5_FnOOFqPvT",
        "outputId": "46e32c88-4b1c-4d56-ac00-9b952da354ad"
      },
      "execution_count": null,
      "outputs": [
        {
          "output_type": "execute_result",
          "data": {
            "text/plain": [
              "0.9706390328151986"
            ]
          },
          "metadata": {},
          "execution_count": 45
        }
      ]
    },
    {
      "cell_type": "markdown",
      "source": [
        "**accuracy на валидации 0.97, accuracy на тесте 0.97. Результаты на тесте и влидации не силно отличаются, модель не переобучилась**"
      ],
      "metadata": {
        "id": "vJ84CLQ1681e"
      }
    },
    {
      "cell_type": "markdown",
      "source": [
        "###insult"
      ],
      "metadata": {
        "id": "lB2_wiMsu5MU"
      }
    },
    {
      "cell_type": "code",
      "source": [
        "#insult\n",
        "\n",
        "tokenizer_insult = Tokenizer(inputCol=\"comment_text\", outputCol=\"words\")\n",
        "hashtf_insult = HashingTF(numFeatures=2**16, inputCol=\"words\", outputCol='tf')\n",
        "idf_insult = IDF(inputCol='tf', outputCol=\"features\", minDocFreq=5) #minDocFreq: remove sparse terms\n",
        "label_stringIdx_insult = StringIndexer(inputCol = \"insult\", outputCol = \"label\")\n",
        "pipeline_insult = Pipeline(stages=[tokenizer_insult, hashtf_insult, idf_insult, label_stringIdx_insult])\n",
        "\n",
        "pipelineFit_insult = pipeline_insult.fit(train_set)\n",
        "train_df_insult = pipelineFit_insult.transform(train_set)\n",
        "val_df_insult = pipelineFit_insult.transform(val_set)\n",
        "test_df_insult = pipelineFit_insult.transform(test_set)\n",
        "train_df_insult.show(5)"
      ],
      "metadata": {
        "colab": {
          "base_uri": "https://localhost:8080/"
        },
        "id": "Uk2Dz6KKhcQg",
        "outputId": "6b4ca1d9-7d5c-4a85-a41f-49af27c2e73b"
      },
      "execution_count": null,
      "outputs": [
        {
          "output_type": "stream",
          "name": "stdout",
          "text": [
            "+---+----------------+--------------------+-----+------------+-------+------+------+-------------+--------------------+--------------------+--------------------+-----+\n",
            "|_c0|              id|        comment_text|toxic|severe_toxic|obscene|threat|insult|identity_hate|               words|                  tf|            features|label|\n",
            "+---+----------------+--------------------+-----+------------+-------+------+------+-------------+--------------------+--------------------+--------------------+-----+\n",
            "|  0|0000997932d777bf|Explanation Why t...|    0|           0|      0|     0|     0|            0|[explanation, why...|(65536,[763,1880,...|(65536,[763,1880,...|  0.0|\n",
            "|  1|000103f0d9cfb60f|D'aww! He matches...|    0|           0|      0|     0|     0|            0|[d'aww!, he, matc...|(65536,[2195,4714...|(65536,[2195,4714...|  0.0|\n",
            "|  2|000113f07ec002fd|Hey man, I'm real...|    0|           0|      0|     0|     0|            0|[hey, man,, i'm, ...|(65536,[6589,1001...|(65536,[6589,1001...|  0.0|\n",
            "|  4|0001d958c54c6e35|You, sir, are my ...|    0|           0|      0|     0|     0|            0|[you,, sir,, are,...|(65536,[389,2762,...|(65536,[389,2762,...|  0.0|\n",
            "|  6|0002bcb3da6cb337|COCKSUCKER BEFORE...|    1|           1|      1|     0|     1|            0|[cocksucker, befo...|(65536,[1880,1835...|(65536,[1880,1835...|  1.0|\n",
            "+---+----------------+--------------------+-----+------------+-------+------+------+-------------+--------------------+--------------------+--------------------+-----+\n",
            "only showing top 5 rows\n",
            "\n"
          ]
        }
      ]
    },
    {
      "cell_type": "code",
      "source": [
        "lr_insult = LogisticRegression(maxIter=100)\n",
        "lrModel_insult = lr_insult.fit(train_df_insult)\n",
        "predictions_insult = lrModel.transform(val_df_insult)\n",
        "test_insult = lrModel_insult.transform(test_df_insult)"
      ],
      "metadata": {
        "id": "qpw5M2GyhcNw"
      },
      "execution_count": null,
      "outputs": []
    },
    {
      "cell_type": "code",
      "source": [
        "evaluator_insult = BinaryClassificationEvaluator(rawPredictionCol=\"rawPrediction\")\n",
        "evaluator_insult.evaluate(predictions_insult)"
      ],
      "metadata": {
        "colab": {
          "base_uri": "https://localhost:8080/"
        },
        "id": "zRZcoyDarsKD",
        "outputId": "29700251-3554-4da9-eff6-972a91313d11"
      },
      "execution_count": null,
      "outputs": [
        {
          "output_type": "execute_result",
          "data": {
            "text/plain": [
              "0.7726278370248826"
            ]
          },
          "metadata": {},
          "execution_count": 48
        }
      ]
    },
    {
      "cell_type": "code",
      "source": [
        "evaluator_insult_test = BinaryClassificationEvaluator(rawPredictionCol=\"rawPrediction\")\n",
        "evaluator_insult_test.evaluate(test_insult)"
      ],
      "metadata": {
        "colab": {
          "base_uri": "https://localhost:8080/"
        },
        "id": "qRG628jzo5mi",
        "outputId": "bf8338bb-3f95-4428-9b2e-dcb03583922f"
      },
      "execution_count": null,
      "outputs": [
        {
          "output_type": "execute_result",
          "data": {
            "text/plain": [
              "0.787600933942991"
            ]
          },
          "metadata": {},
          "execution_count": 49
        }
      ]
    },
    {
      "cell_type": "code",
      "source": [
        "#accuracy_insult_val\n",
        "accuracy_insult = predictions_insult.filter(predictions_insult.label == predictions_insult.prediction).count() / float(val_set.count())\n",
        "accuracy_insult"
      ],
      "metadata": {
        "colab": {
          "base_uri": "https://localhost:8080/"
        },
        "id": "PcqFAlQhrsHR",
        "outputId": "9d3e2900-5600-4c50-e3e9-404299d3b91a"
      },
      "execution_count": null,
      "outputs": [
        {
          "output_type": "execute_result",
          "data": {
            "text/plain": [
              "0.8928262748487468"
            ]
          },
          "metadata": {},
          "execution_count": 50
        }
      ]
    },
    {
      "cell_type": "code",
      "source": [
        "#accuracy_insult_test\n",
        "accuracy_insult_test = test_insult.filter(test_insult.label == test_insult.prediction).count() / float(test_set.count())\n",
        "accuracy_insult_test"
      ],
      "metadata": {
        "colab": {
          "base_uri": "https://localhost:8080/"
        },
        "id": "ezj6kqJfqn0a",
        "outputId": "3f4385f0-f65a-4663-880d-d455ed188abf"
      },
      "execution_count": null,
      "outputs": [
        {
          "output_type": "execute_result",
          "data": {
            "text/plain": [
              "0.8756476683937824"
            ]
          },
          "metadata": {},
          "execution_count": 51
        }
      ]
    },
    {
      "cell_type": "markdown",
      "source": [
        "**accuracy на валидации 0.89, accuracy на тесте 0.88. Результаты на тесте и влидации не силно отличаются, модель не переобучилась**"
      ],
      "metadata": {
        "id": "sifW5jz97HMv"
      }
    },
    {
      "cell_type": "markdown",
      "source": [
        "###identity_hate"
      ],
      "metadata": {
        "id": "TlPvXyaMu9EM"
      }
    },
    {
      "cell_type": "code",
      "source": [
        "#identity_hate\n",
        "\n",
        "tokenizer_identity_hate = Tokenizer(inputCol=\"comment_text\", outputCol=\"words\")\n",
        "hashtf_identity_hate = HashingTF(numFeatures=2**16, inputCol=\"words\", outputCol='tf')\n",
        "idf_identity_hate = IDF(inputCol='tf', outputCol=\"features\", minDocFreq=5) #minDocFreq: remove sparse terms\n",
        "label_stringIdx_identity_hate = StringIndexer(inputCol = \"identity_hate\", outputCol = \"label\")\n",
        "pipeline_identity_hate = Pipeline(stages=[tokenizer_identity_hate, hashtf_identity_hate, idf_identity_hate, label_stringIdx_identity_hate])\n",
        "\n",
        "pipelineFit_identity_hate = pipeline_identity_hate.fit(train_set)\n",
        "train_df_identity_hate = pipelineFit_identity_hate.transform(train_set)\n",
        "val_df_identity_hate = pipelineFit_identity_hate.transform(val_set)\n",
        "test_df_identity_hate = pipelineFit_identity_hate.transform(test_set)\n",
        "train_df_identity_hate.show(5)"
      ],
      "metadata": {
        "colab": {
          "base_uri": "https://localhost:8080/"
        },
        "id": "0kgEVPoMgoxY",
        "outputId": "c5c52fba-542f-46c0-a2e1-da33a0e67739"
      },
      "execution_count": null,
      "outputs": [
        {
          "output_type": "stream",
          "name": "stdout",
          "text": [
            "+---+----------------+--------------------+-----+------------+-------+------+------+-------------+--------------------+--------------------+--------------------+-----+\n",
            "|_c0|              id|        comment_text|toxic|severe_toxic|obscene|threat|insult|identity_hate|               words|                  tf|            features|label|\n",
            "+---+----------------+--------------------+-----+------------+-------+------+------+-------------+--------------------+--------------------+--------------------+-----+\n",
            "|  0|0000997932d777bf|Explanation Why t...|    0|           0|      0|     0|     0|            0|[explanation, why...|(65536,[763,1880,...|(65536,[763,1880,...|  0.0|\n",
            "|  1|000103f0d9cfb60f|D'aww! He matches...|    0|           0|      0|     0|     0|            0|[d'aww!, he, matc...|(65536,[2195,4714...|(65536,[2195,4714...|  0.0|\n",
            "|  2|000113f07ec002fd|Hey man, I'm real...|    0|           0|      0|     0|     0|            0|[hey, man,, i'm, ...|(65536,[6589,1001...|(65536,[6589,1001...|  0.0|\n",
            "|  4|0001d958c54c6e35|You, sir, are my ...|    0|           0|      0|     0|     0|            0|[you,, sir,, are,...|(65536,[389,2762,...|(65536,[389,2762,...|  0.0|\n",
            "|  6|0002bcb3da6cb337|COCKSUCKER BEFORE...|    1|           1|      1|     0|     1|            0|[cocksucker, befo...|(65536,[1880,1835...|(65536,[1880,1835...|  0.0|\n",
            "+---+----------------+--------------------+-----+------------+-------+------+------+-------------+--------------------+--------------------+--------------------+-----+\n",
            "only showing top 5 rows\n",
            "\n"
          ]
        }
      ]
    },
    {
      "cell_type": "code",
      "source": [
        "lr_identity_hate = LogisticRegression(maxIter=100)\n",
        "lrModel_identity_hate = lr_identity_hate.fit(train_df_identity_hate)\n",
        "predictions_identity_hate = lrModel_identity_hate.transform(val_df_identity_hate)\n",
        "test_identity_hate = lrModel_identity_hate.transform(test_df_identity_hate)"
      ],
      "metadata": {
        "id": "ArnMK-ZesPO3"
      },
      "execution_count": null,
      "outputs": []
    },
    {
      "cell_type": "code",
      "source": [
        "evaluator_identity_hate = BinaryClassificationEvaluator(rawPredictionCol=\"rawPrediction\")\n",
        "evaluator_identity_hate.evaluate(predictions_identity_hate)"
      ],
      "metadata": {
        "colab": {
          "base_uri": "https://localhost:8080/"
        },
        "id": "tdEbfGmWsPLa",
        "outputId": "0b21e5dd-fa25-45cd-e8b7-c79de3cfb04f"
      },
      "execution_count": null,
      "outputs": [
        {
          "output_type": "execute_result",
          "data": {
            "text/plain": [
              "0.6393894566971485"
            ]
          },
          "metadata": {},
          "execution_count": 54
        }
      ]
    },
    {
      "cell_type": "code",
      "source": [
        "evaluator_identity_hate_test = BinaryClassificationEvaluator(rawPredictionCol=\"rawPrediction\")\n",
        "evaluator_identity_hate_test.evaluate(test_identity_hate)"
      ],
      "metadata": {
        "colab": {
          "base_uri": "https://localhost:8080/"
        },
        "id": "UoMCh8GupDeS",
        "outputId": "b34dfd19-c14d-4a16-c741-8cc5a9408d89"
      },
      "execution_count": null,
      "outputs": [
        {
          "output_type": "execute_result",
          "data": {
            "text/plain": [
              "0.6155591070784134"
            ]
          },
          "metadata": {},
          "execution_count": 55
        }
      ]
    },
    {
      "cell_type": "code",
      "source": [
        "#accuracy_identity_val\n",
        "accuracy_identity_hate = predictions_identity_hate.filter(predictions_identity_hate.label == predictions_identity_hate.prediction).count() / float(val_set.count())\n",
        "accuracy_identity_hate"
      ],
      "metadata": {
        "colab": {
          "base_uri": "https://localhost:8080/"
        },
        "id": "bqnTWh_MsPJA",
        "outputId": "386b512b-3fab-486c-da42-6d2d49bfb861"
      },
      "execution_count": null,
      "outputs": [
        {
          "output_type": "execute_result",
          "data": {
            "text/plain": [
              "0.9386343993085566"
            ]
          },
          "metadata": {},
          "execution_count": 56
        }
      ]
    },
    {
      "cell_type": "code",
      "source": [
        "#accuracy_identity_test\n",
        "accuracy_identity_hate_test = test_identity_hate.filter(test_identity_hate.label == test_identity_hate.prediction).count() / float(test_set.count())\n",
        "accuracy_identity_hate_test"
      ],
      "metadata": {
        "colab": {
          "base_uri": "https://localhost:8080/"
        },
        "id": "5nQMJU13sPEN",
        "outputId": "f97dea13-8443-44d5-a0b3-5fc143fd704f"
      },
      "execution_count": null,
      "outputs": [
        {
          "output_type": "execute_result",
          "data": {
            "text/plain": [
              "0.9525043177892919"
            ]
          },
          "metadata": {},
          "execution_count": 57
        }
      ]
    },
    {
      "cell_type": "markdown",
      "source": [
        "**accuracy на валидации 0.94, accuracy на тесте 0.95. Результаты на тесте и влидации не силно отличаются, модель не переобучилась**"
      ],
      "metadata": {
        "id": "fSr35q6w7SWO"
      }
    },
    {
      "cell_type": "markdown",
      "source": [
        "#Word2Vec"
      ],
      "metadata": {
        "id": "PWJUJuyGMKhH"
      }
    },
    {
      "cell_type": "code",
      "source": [
        "tokenizer = Tokenizer(inputCol=\"comment_text\", outputCol=\"words\")\n",
        "word2Vec = Word2Vec(vectorSize=10, minCount=0, inputCol=\"words\", outputCol=\"result_w2v\")\n",
        "pipeline = Pipeline(stages=[tokenizer, word2Vec])\n",
        "pipelineFit = pipeline.fit(train_set)\n",
        "\n",
        "train_df_w2v = pipelineFit.transform(train_set)\n",
        "val_df_w2v = pipelineFit.transform(val_set)\n",
        "test_df_w2v = pipelineFit.transform(test_set)\n",
        "test_df_w2v.show(5)"
      ],
      "metadata": {
        "colab": {
          "base_uri": "https://localhost:8080/"
        },
        "id": "n8idGe5tmFmH",
        "outputId": "3a446f21-2d59-4e01-eb68-c23d86cc704f"
      },
      "execution_count": null,
      "outputs": [
        {
          "output_type": "stream",
          "name": "stdout",
          "text": [
            "+---+----------------+--------------------+-----+------------+-------+------+------+-------------+--------------------+--------------------+\n",
            "|_c0|              id|        comment_text|toxic|severe_toxic|obscene|threat|insult|identity_hate|               words|          result_w2v|\n",
            "+---+----------------+--------------------+-----+------------+-------+------+------+-------------+--------------------+--------------------+\n",
            "|136|00562e78e0b34102|Yeah, let's merge...|    0|           0|      0|     0|     0|            0|[yeah,, let's, me...|[-0.1298364839458...|\n",
            "|138|0057e30091cf3e81|\"\"\" A cookie for ...|    0|           0|      0|     0|     0|            0|[\"\"\", a, cookie, ...|[0.01772472597658...|\n",
            "|298|00c0b8ed05ed7833|Fuck off You are ...|    1|           0|      1|     0|     0|            0|[fuck, off, you, ...|[-0.2699484359990...|\n",
            "|342|00db176890cd71bf|Thank you Hei, it...|    1|           0|      0|     0|     0|            0|[thank, you, hei,...|[-0.1332822859434...|\n",
            "|602|019ab9a91e7fcdbe|Are you fucker mo...|    1|           0|      1|     0|     1|            0|[are, you, fucker...|[-0.3507917430457...|\n",
            "+---+----------------+--------------------+-----+------------+-------+------+------+-------------+--------------------+--------------------+\n",
            "only showing top 5 rows\n",
            "\n"
          ]
        }
      ]
    },
    {
      "cell_type": "code",
      "source": [
        "from pyspark.sql.types import *\n",
        "\n",
        "# Change column type\n",
        "train_df_w2v = train_df_w2v.withColumn(\"toxic\", train_df_w2v[\"toxic\"].cast(IntegerType()))\n",
        "train_df_w2v = train_df_w2v.withColumn(\"severe_toxic\", train_df_w2v[\"severe_toxic\"].cast(IntegerType()))\n",
        "train_df_w2v = train_df_w2v.withColumn(\"obscene\", train_df_w2v[\"obscene\"].cast(IntegerType()))\n",
        "train_df_w2v = train_df_w2v.withColumn(\"threat\", train_df_w2v[\"threat\"].cast(IntegerType()))\n",
        "train_df_w2v = train_df_w2v.withColumn(\"insult\", train_df_w2v[\"insult\"].cast(IntegerType()))\n",
        "train_df_w2v = train_df_w2v.withColumn(\"identity_hate\", train_df_w2v[\"identity_hate\"].cast(IntegerType()))\n",
        "\n",
        "test_df_w2v = test_df_w2v.withColumn(\"toxic\", test_df_w2v[\"toxic\"].cast(IntegerType()))\n",
        "test_df_w2v = test_df_w2v.withColumn(\"severe_toxic\", test_df_w2v[\"severe_toxic\"].cast(IntegerType()))\n",
        "test_df_w2v = test_df_w2v.withColumn(\"obscene\", test_df_w2v[\"obscene\"].cast(IntegerType()))\n",
        "test_df_w2v = test_df_w2v.withColumn(\"threat\", test_df_w2v[\"threat\"].cast(IntegerType()))\n",
        "test_df_w2v = test_df_w2v.withColumn(\"insult\", test_df_w2v[\"insult\"].cast(IntegerType()))\n",
        "test_df_w2v = test_df_w2v.withColumn(\"identity_hate\", test_df_w2v[\"identity_hate\"].cast(IntegerType()))\n",
        "\n",
        "val_df_w2v = val_df_w2v.withColumn(\"toxic\", val_df_w2v[\"toxic\"].cast(IntegerType()))\n",
        "val_df_w2v = val_df_w2v.withColumn(\"severe_toxic\", val_df_w2v[\"severe_toxic\"].cast(IntegerType()))\n",
        "val_df_w2v = val_df_w2v.withColumn(\"obscene\", val_df_w2v[\"obscene\"].cast(IntegerType()))\n",
        "val_df_w2v = val_df_w2v.withColumn(\"threat\", val_df_w2v[\"threat\"].cast(IntegerType()))\n",
        "val_df_w2v = val_df_w2v.withColumn(\"insult\", val_df_w2v[\"insult\"].cast(IntegerType()))\n",
        "val_df_w2v = val_df_w2v.withColumn(\"identity_hate\", val_df_w2v[\"identity_hate\"].cast(IntegerType()))"
      ],
      "metadata": {
        "id": "8ot8CVsJwIwB"
      },
      "execution_count": null,
      "outputs": []
    },
    {
      "cell_type": "code",
      "source": [
        "train_df_w2v.printSchema()"
      ],
      "metadata": {
        "colab": {
          "base_uri": "https://localhost:8080/"
        },
        "id": "X0E-jF8xvmWI",
        "outputId": "d6627d7f-4ad9-4116-dbd8-960d0198d128"
      },
      "execution_count": null,
      "outputs": [
        {
          "output_type": "stream",
          "name": "stdout",
          "text": [
            "root\n",
            " |-- _c0: integer (nullable = true)\n",
            " |-- id: string (nullable = true)\n",
            " |-- comment_text: string (nullable = true)\n",
            " |-- toxic: integer (nullable = true)\n",
            " |-- severe_toxic: integer (nullable = true)\n",
            " |-- obscene: integer (nullable = true)\n",
            " |-- threat: integer (nullable = true)\n",
            " |-- insult: integer (nullable = true)\n",
            " |-- identity_hate: integer (nullable = true)\n",
            " |-- words: array (nullable = true)\n",
            " |    |-- element: string (containsNull = true)\n",
            " |-- result_w2v: vector (nullable = true)\n",
            "\n"
          ]
        }
      ]
    },
    {
      "cell_type": "markdown",
      "source": [
        "###toxic"
      ],
      "metadata": {
        "id": "6VGGgQot2Ezv"
      }
    },
    {
      "cell_type": "code",
      "source": [
        "mlor_toxic = LogisticRegression(featuresCol='result_w2v', labelCol='toxic')\n",
        "mlorModel_toxic = mlor_toxic.fit(train_df_w2v)"
      ],
      "metadata": {
        "id": "QnZ2PoOeMIyf"
      },
      "execution_count": null,
      "outputs": []
    },
    {
      "cell_type": "code",
      "source": [
        "predictions_toxic = mlorModel_toxic.transform(val_df_w2v)"
      ],
      "metadata": {
        "id": "BRYzgbR9vQEw"
      },
      "execution_count": null,
      "outputs": []
    },
    {
      "cell_type": "code",
      "source": [
        "test_toxic = mlorModel_toxic.transform(test_df_w2v)"
      ],
      "metadata": {
        "id": "bCuc2jQlvRqT"
      },
      "execution_count": null,
      "outputs": []
    },
    {
      "cell_type": "code",
      "source": [
        "#accuracy_val\n",
        "accuracy_toxic = predictions_toxic.filter(predictions_toxic.toxic == predictions_toxic.prediction).count() / float(val_set.count())\n",
        "accuracy_toxic"
      ],
      "metadata": {
        "colab": {
          "base_uri": "https://localhost:8080/"
        },
        "id": "M5jeaVP5hRhq",
        "outputId": "33b41cef-b0c5-43a0-fe06-43d41d767c35"
      },
      "execution_count": null,
      "outputs": [
        {
          "output_type": "execute_result",
          "data": {
            "text/plain": [
              "0.9291270527225584"
            ]
          },
          "metadata": {},
          "execution_count": 43
        }
      ]
    },
    {
      "cell_type": "code",
      "source": [
        "#accuracy_test\n",
        "accuracy_toxic_test = test_toxic.filter(test_toxic.toxic == test_toxic.prediction).count() / float(test_set.count())\n",
        "accuracy_toxic_test"
      ],
      "metadata": {
        "colab": {
          "base_uri": "https://localhost:8080/"
        },
        "id": "vekUfkmjhTW2",
        "outputId": "5c4afcc6-7c11-414e-87a8-8ff40fd2eb82"
      },
      "execution_count": null,
      "outputs": [
        {
          "output_type": "execute_result",
          "data": {
            "text/plain": [
              "0.9205526770293609"
            ]
          },
          "metadata": {},
          "execution_count": 44
        }
      ]
    },
    {
      "cell_type": "markdown",
      "source": [
        "**accuracy на валидации 0.93, accuracy на тесте 0.92. Результаты на тесте и влидации не силно отличаются, модель не переобучилась**"
      ],
      "metadata": {
        "id": "gZlKsWfKAXs5"
      }
    },
    {
      "cell_type": "markdown",
      "source": [
        "###severe_toxic"
      ],
      "metadata": {
        "id": "9h9_NvPW4rOh"
      }
    },
    {
      "cell_type": "code",
      "source": [
        "mlor_severe_toxic = LogisticRegression(featuresCol='result_w2v', labelCol='toxic')\n",
        "mlorModel_severe_toxic = mlor_severe_toxic.fit(train_df_w2v)"
      ],
      "metadata": {
        "id": "eFdWDnKq4rOh"
      },
      "execution_count": null,
      "outputs": []
    },
    {
      "cell_type": "code",
      "source": [
        "predictions_severe_toxic = mlorModel_severe_toxic.transform(val_df_w2v)"
      ],
      "metadata": {
        "id": "yQzvQtl34rOi"
      },
      "execution_count": null,
      "outputs": []
    },
    {
      "cell_type": "code",
      "source": [
        "test_severe_toxic = mlorModel_severe_toxic.transform(test_df_w2v)"
      ],
      "metadata": {
        "id": "qNrXeXRv4rOi"
      },
      "execution_count": null,
      "outputs": []
    },
    {
      "cell_type": "code",
      "source": [
        "#accuracy_val\n",
        "accuracy_severe_toxic = predictions_severe_toxic.filter(predictions_severe_toxic.severe_toxic == predictions_severe_toxic.prediction).count() / float(val_set.count())\n",
        "accuracy_severe_toxic"
      ],
      "metadata": {
        "colab": {
          "base_uri": "https://localhost:8080/"
        },
        "outputId": "55817b9a-3f96-401e-aa60-20a9d1521ec3",
        "id": "94jfuHb84rOj"
      },
      "execution_count": null,
      "outputs": [
        {
          "output_type": "execute_result",
          "data": {
            "text/plain": [
              "0.9498703543647364"
            ]
          },
          "metadata": {},
          "execution_count": 50
        }
      ]
    },
    {
      "cell_type": "code",
      "source": [
        "#accuracy_test\n",
        "accuracy_severe_toxic_test = test_severe_toxic.filter(test_severe_toxic.severe_toxic == test_severe_toxic.prediction).count() / float(test_set.count())\n",
        "accuracy_severe_toxic_test"
      ],
      "metadata": {
        "colab": {
          "base_uri": "https://localhost:8080/"
        },
        "outputId": "cdd74a8a-cf38-4057-8b9a-3f1aaf66a9c7",
        "id": "07ZM0HeR4rOj"
      },
      "execution_count": null,
      "outputs": [
        {
          "output_type": "execute_result",
          "data": {
            "text/plain": [
              "0.9352331606217616"
            ]
          },
          "metadata": {},
          "execution_count": 52
        }
      ]
    },
    {
      "cell_type": "markdown",
      "source": [
        "**accuracy на валидации 0.95, accuracy на тесте 0.94. Результаты на тесте и влидации не силно отличаются, модель не переобучилась**"
      ],
      "metadata": {
        "id": "5ZjupyjsAvs_"
      }
    },
    {
      "cell_type": "markdown",
      "source": [
        "###obscene"
      ],
      "metadata": {
        "id": "YKSLkped4r3N"
      }
    },
    {
      "cell_type": "code",
      "source": [
        "mlor_obscene = LogisticRegression(featuresCol='result_w2v', labelCol='toxic')\n",
        "mlorModel_obscene = mlor_obscene.fit(train_df_w2v)"
      ],
      "metadata": {
        "id": "EfYnfqpA4r3O"
      },
      "execution_count": null,
      "outputs": []
    },
    {
      "cell_type": "code",
      "source": [
        "predictions_obscene = mlorModel_obscene.transform(val_df_w2v)"
      ],
      "metadata": {
        "id": "dTB7up8W4r3O"
      },
      "execution_count": null,
      "outputs": []
    },
    {
      "cell_type": "code",
      "source": [
        "test_obscene = mlorModel_obscene.transform(test_df_w2v)"
      ],
      "metadata": {
        "id": "NufEcJkK4r3O"
      },
      "execution_count": null,
      "outputs": []
    },
    {
      "cell_type": "code",
      "source": [
        "#accuracy_val\n",
        "accuracy_obscene = predictions_obscene.filter(predictions_obscene.obscene == predictions_obscene.prediction).count() / float(val_set.count())\n",
        "accuracy_obscene"
      ],
      "metadata": {
        "colab": {
          "base_uri": "https://localhost:8080/"
        },
        "outputId": "e4920c0a-d111-46cf-96a7-d053d3e6bf83",
        "id": "Y_87_DLU4r3O"
      },
      "execution_count": null,
      "outputs": [
        {
          "output_type": "execute_result",
          "data": {
            "text/plain": [
              "0.9541918755401901"
            ]
          },
          "metadata": {},
          "execution_count": 56
        }
      ]
    },
    {
      "cell_type": "code",
      "source": [
        "#accuracy_test\n",
        "accuracy_obscene_test = test_obscene.filter(test_obscene.obscene == test_obscene.prediction).count() / float(test_set.count())\n",
        "accuracy_obscene_test"
      ],
      "metadata": {
        "colab": {
          "base_uri": "https://localhost:8080/"
        },
        "outputId": "7687c0f3-b91c-4235-d286-7371d8dce13a",
        "id": "-WgzPcEA4r3P"
      },
      "execution_count": null,
      "outputs": [
        {
          "output_type": "execute_result",
          "data": {
            "text/plain": [
              "0.9447322970639033"
            ]
          },
          "metadata": {},
          "execution_count": 58
        }
      ]
    },
    {
      "cell_type": "markdown",
      "source": [
        "**accuracy на валидации 0.95, accuracy на тесте 0.94. Результаты на тесте и влидации не силно отличаются, модель не переобучилась**"
      ],
      "metadata": {
        "id": "uqAaP6xGA0kX"
      }
    },
    {
      "cell_type": "markdown",
      "source": [
        "###threat"
      ],
      "metadata": {
        "id": "z9O5NVq94sXe"
      }
    },
    {
      "cell_type": "code",
      "source": [
        "mlor_threat = LogisticRegression(featuresCol='result_w2v', labelCol='toxic')\n",
        "mlorModel_threat = mlor_threat.fit(train_df_w2v)"
      ],
      "metadata": {
        "id": "aWxcTSeh4sXe"
      },
      "execution_count": null,
      "outputs": []
    },
    {
      "cell_type": "code",
      "source": [
        "predictions_threat = mlorModel_threat.transform(val_df_w2v)"
      ],
      "metadata": {
        "id": "--QO-0JY4sXe"
      },
      "execution_count": null,
      "outputs": []
    },
    {
      "cell_type": "code",
      "source": [
        "test_threat = mlorModel_threat.transform(test_df_w2v)"
      ],
      "metadata": {
        "id": "NN13czj34sXe"
      },
      "execution_count": null,
      "outputs": []
    },
    {
      "cell_type": "code",
      "source": [
        "#accuracy_val\n",
        "accuracy_threat = predictions_threat.filter(predictions_threat.threat == predictions_threat.prediction).count() / float(val_set.count())\n",
        "accuracy_threat"
      ],
      "metadata": {
        "colab": {
          "base_uri": "https://localhost:8080/"
        },
        "outputId": "a6aeb008-af76-4b2a-ab2d-a1bd697d82f5",
        "id": "HIK1nSQA4sXe"
      },
      "execution_count": null,
      "outputs": [
        {
          "output_type": "execute_result",
          "data": {
            "text/plain": [
              "0.9403630077787382"
            ]
          },
          "metadata": {},
          "execution_count": 62
        }
      ]
    },
    {
      "cell_type": "code",
      "source": [
        "#accuracy_test\n",
        "accuracy_threat_test = test_threat.filter(test_toxic.threat == test_threat.prediction).count() / float(test_set.count())\n",
        "accuracy_threat_test"
      ],
      "metadata": {
        "colab": {
          "base_uri": "https://localhost:8080/"
        },
        "outputId": "061baa38-1635-4bbd-f0db-6222fd764fb2",
        "id": "1yLzetK24sXf"
      },
      "execution_count": null,
      "outputs": [
        {
          "output_type": "execute_result",
          "data": {
            "text/plain": [
              "0.9231433506044905"
            ]
          },
          "metadata": {},
          "execution_count": 63
        }
      ]
    },
    {
      "cell_type": "markdown",
      "source": [
        "**accuracy на валидации 0.94, accuracy на тесте 0.92. Результаты на тесте и влидации не силно отличаются, модель не переобучилась**"
      ],
      "metadata": {
        "id": "387NY0KIBBnz"
      }
    },
    {
      "cell_type": "markdown",
      "source": [
        "###insult"
      ],
      "metadata": {
        "id": "P2hiud8U4s7f"
      }
    },
    {
      "cell_type": "code",
      "source": [
        "mlor_insult = LogisticRegression(featuresCol='result_w2v', labelCol='toxic')\n",
        "mlorModel_insult = mlor_insult.fit(train_df_w2v)"
      ],
      "metadata": {
        "id": "-lt5M0b44s7g"
      },
      "execution_count": null,
      "outputs": []
    },
    {
      "cell_type": "code",
      "source": [
        "predictions_insult = mlorModel_insult.transform(val_df_w2v)"
      ],
      "metadata": {
        "id": "tknyKrNs4s7g"
      },
      "execution_count": null,
      "outputs": []
    },
    {
      "cell_type": "code",
      "source": [
        "test_insult = mlorModel_insult.transform(test_df_w2v)"
      ],
      "metadata": {
        "id": "AoMjYv1j4s7g"
      },
      "execution_count": null,
      "outputs": []
    },
    {
      "cell_type": "code",
      "source": [
        "#accuracy_val\n",
        "accuracy_insult = predictions_insult.filter(predictions_insult.insult == predictions_insult.prediction).count() / float(val_set.count())\n",
        "accuracy_insult"
      ],
      "metadata": {
        "colab": {
          "base_uri": "https://localhost:8080/"
        },
        "outputId": "3c23261b-edfc-4e2b-c772-4bf263aa0494",
        "id": "3_5Q0bbV4s7g"
      },
      "execution_count": null,
      "outputs": [
        {
          "output_type": "execute_result",
          "data": {
            "text/plain": [
              "0.9515989628349178"
            ]
          },
          "metadata": {},
          "execution_count": 67
        }
      ]
    },
    {
      "cell_type": "code",
      "source": [
        "#accuracy_test\n",
        "accuracy_toxic_insult = test_insult.filter(test_insult.insult == test_insult.prediction).count() / float(test_set.count())\n",
        "accuracy_toxic_insult"
      ],
      "metadata": {
        "colab": {
          "base_uri": "https://localhost:8080/"
        },
        "outputId": "d780ef8c-a045-43f8-a6b7-6401c9a5bc2d",
        "id": "zU3Zy9pd4s7h"
      },
      "execution_count": null,
      "outputs": [
        {
          "output_type": "execute_result",
          "data": {
            "text/plain": [
              "0.9386873920552677"
            ]
          },
          "metadata": {},
          "execution_count": 68
        }
      ]
    },
    {
      "cell_type": "markdown",
      "source": [
        "**accuracy на валидации 0.95, accuracy на тесте 0.94. Результаты на тесте и влидации не силно отличаются, модель не переобучилась**"
      ],
      "metadata": {
        "id": "A-GOTJd9BIBb"
      }
    },
    {
      "cell_type": "markdown",
      "source": [
        "###identity_hate"
      ],
      "metadata": {
        "id": "l5FeuwdM5K8i"
      }
    },
    {
      "cell_type": "code",
      "source": [
        "mlor_identity_hate = LogisticRegression(featuresCol='result_w2v', labelCol='toxic')\n",
        "mlorModel_identity_hate = mlor_identity_hate.fit(train_df_w2v)"
      ],
      "metadata": {
        "id": "c31EX0fk5K8j"
      },
      "execution_count": null,
      "outputs": []
    },
    {
      "cell_type": "code",
      "source": [
        "predictions_identity_hate = mlorModel_identity_hate.transform(val_df_w2v)"
      ],
      "metadata": {
        "id": "UCJ1Q3bA5K8j"
      },
      "execution_count": null,
      "outputs": []
    },
    {
      "cell_type": "code",
      "source": [
        "test_identity_hate = mlorModel_identity_hate.transform(test_df_w2v)"
      ],
      "metadata": {
        "id": "TpaX3y3j5K8j"
      },
      "execution_count": null,
      "outputs": []
    },
    {
      "cell_type": "code",
      "source": [
        "#accuracy_val\n",
        "accuracy_identity_hate = predictions_identity_hate.filter(predictions_identity_hate.identity_hate == predictions_identity_hate.prediction).count() / float(val_set.count())\n",
        "accuracy_identity_hate"
      ],
      "metadata": {
        "colab": {
          "base_uri": "https://localhost:8080/"
        },
        "outputId": "3cff2961-abf1-4106-f085-18e8a850dff8",
        "id": "ccrTPQDm5K8j"
      },
      "execution_count": null,
      "outputs": [
        {
          "output_type": "execute_result",
          "data": {
            "text/plain": [
              "0.9429559204840103"
            ]
          },
          "metadata": {},
          "execution_count": 72
        }
      ]
    },
    {
      "cell_type": "code",
      "source": [
        "#accuracy_test\n",
        "accuracy_identity_hate_test = test_identity_hate.filter(test_identity_hate.toxic == test_identity_hate.prediction).count() / float(test_set.count())\n",
        "accuracy_identity_hate_test"
      ],
      "metadata": {
        "colab": {
          "base_uri": "https://localhost:8080/"
        },
        "outputId": "f834ef5c-b21c-4b75-a958-b50c4803bffa",
        "id": "M1WlDyiu5K8k"
      },
      "execution_count": null,
      "outputs": [
        {
          "output_type": "execute_result",
          "data": {
            "text/plain": [
              "0.9205526770293609"
            ]
          },
          "metadata": {},
          "execution_count": 73
        }
      ]
    },
    {
      "cell_type": "markdown",
      "source": [
        "**accuracy на валидации 0.94, accuracy на тесте 0.92. Результаты на тесте и влидации не силно отличаются, модель не переобучилась**"
      ],
      "metadata": {
        "id": "0DPgRGiKBOrD"
      }
    }
  ],
  "metadata": {
    "kernelspec": {
      "display_name": "Python 3",
      "name": "python3"
    },
    "language_info": {
      "name": "python"
    },
    "colab": {
      "provenance": [],
      "collapsed_sections": [
        "jt2dRMKFuru1",
        "ypnGlzK4uwFF",
        "Bq1JNCEAuy6N",
        "BSpK0tOcu2qE",
        "lB2_wiMsu5MU",
        "ZRSmfB0mv1YG",
        "amiYGAzTrJOu",
        "IcvrXlVzrJOz",
        "GbD0r1gTrJO1"
      ]
    },
    "gpuClass": "standard"
  },
  "nbformat": 4,
  "nbformat_minor": 0
}